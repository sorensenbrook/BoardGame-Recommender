{
 "cells": [
  {
   "cell_type": "code",
   "execution_count": 4,
   "id": "db84e7fc",
   "metadata": {},
   "outputs": [],
   "source": [
    "import pandas as pd\n",
    "import numpy as np"
   ]
  },
  {
   "cell_type": "markdown",
   "id": "952d9263",
   "metadata": {},
   "source": [
    "##### 1:\n",
    "Editing and processing the data a little:"
   ]
  },
  {
   "cell_type": "markdown",
   "id": "75f924f3",
   "metadata": {},
   "source": [
    "First I import the raw data from my comuter:"
   ]
  },
  {
   "cell_type": "code",
   "execution_count": 29,
   "id": "5a5779ab",
   "metadata": {},
   "outputs": [],
   "source": [
    "basic = pd.read_csv('/Users/jasonmatiatos/Desktop/raw data/basic_data.csv')\n",
    "mechanics = pd.read_csv('/Users/jasonmatiatos/Desktop/raw data/mechanics_data.csv')\n",
    "categories = pd.read_csv('/Users/jasonmatiatos/Desktop/raw data/categories_data.csv')\n",
    "subdomains = pd.read_csv('/Users/jasonmatiatos/Desktop/raw data/subdomain_data.csv')"
   ]
  },
  {
   "cell_type": "markdown",
   "id": "f2a43244",
   "metadata": {},
   "source": [
    "Then I: \n",
    "1. keep only the categories I want from 'basic' into a new dataframe, 'basics'\n",
    "2. concatenate categories and subdomains into one dataframe called cats (and filter out the bayes rating)\n",
    "3. store the mechanics into one df called mecs (and filter out the rating & bayes rating)\n",
    "4. horizontally concatenate basics, cats, and mecs into one df called all_data\n",
    "5. turn all the column headers to lower case letters"
   ]
  },
  {
   "cell_type": "code",
   "execution_count": 32,
   "id": "cc4bb779",
   "metadata": {},
   "outputs": [
    {
     "data": {
      "text/plain": [
       "pandas.core.frame.DataFrame"
      ]
     },
     "execution_count": 32,
     "metadata": {},
     "output_type": "execute_result"
    }
   ],
   "source": [
    "type(categories)"
   ]
  },
  {
   "cell_type": "code",
   "execution_count": 41,
   "id": "69ccb3d8",
   "metadata": {},
   "outputs": [],
   "source": [
    "# 1\n",
    "basics = basic[['name', 'description', 'image', 'rating', 'usersrated', \n",
    "                'minplayers', 'maxplayers', 'playingtime']]\n",
    "\n",
    "# 2\n",
    "cats = pd.concat([categories, subdomains], axis=1)\n",
    "cats.drop(columns=['bayes_rating', 'bayes_rating'], axis=1, inplace=True)\n",
    "\n",
    "# 3\n",
    "mecs = mechanics\n",
    "mecs.drop(columns=['rating', 'bayes_rating'], axis=1, inplace=True)\n",
    "\n",
    "# 4\n",
    "all_data = pd.concat([basics, mecs, cats], axis=1)\n",
    "\n",
    "# 5\n",
    "all_data.columns = all_data.columns.str.lower()"
   ]
  },
  {
   "cell_type": "code",
   "execution_count": 60,
   "id": "a9bfd904",
   "metadata": {
    "scrolled": true
   },
   "outputs": [
    {
     "data": {
      "text/html": [
       "<div>\n",
       "<style scoped>\n",
       "    .dataframe tbody tr th:only-of-type {\n",
       "        vertical-align: middle;\n",
       "    }\n",
       "\n",
       "    .dataframe tbody tr th {\n",
       "        vertical-align: top;\n",
       "    }\n",
       "\n",
       "    .dataframe thead th {\n",
       "        text-align: right;\n",
       "    }\n",
       "</style>\n",
       "<table border=\"1\" class=\"dataframe\">\n",
       "  <thead>\n",
       "    <tr style=\"text-align: right;\">\n",
       "      <th></th>\n",
       "      <th>name</th>\n",
       "      <th>description</th>\n",
       "      <th>image</th>\n",
       "      <th>rating</th>\n",
       "      <th>usersrated</th>\n",
       "      <th>minplayers</th>\n",
       "      <th>maxplayers</th>\n",
       "      <th>playingtime</th>\n",
       "      <th>alliances</th>\n",
       "      <th>area majority / influence</th>\n",
       "      <th>...</th>\n",
       "      <th>korean war</th>\n",
       "      <th>fan expansion</th>\n",
       "      <th>strategy games</th>\n",
       "      <th>abstract games</th>\n",
       "      <th>family games</th>\n",
       "      <th>thematic games</th>\n",
       "      <th>customizable games</th>\n",
       "      <th>wargames</th>\n",
       "      <th>party games</th>\n",
       "      <th>children's games</th>\n",
       "    </tr>\n",
       "  </thead>\n",
       "  <tbody>\n",
       "    <tr>\n",
       "      <th>0</th>\n",
       "      <td>Die Macher</td>\n",
       "      <td>Die Macher is a game about seven sequential po...</td>\n",
       "      <td>https://cf.geekdo-images.com/original/img/uqlr...</td>\n",
       "      <td>7.62855</td>\n",
       "      <td>5054</td>\n",
       "      <td>3.0</td>\n",
       "      <td>5.0</td>\n",
       "      <td>240.0</td>\n",
       "      <td>1.0</td>\n",
       "      <td>1.0</td>\n",
       "      <td>...</td>\n",
       "      <td>0.0</td>\n",
       "      <td>0.0</td>\n",
       "      <td>1.0</td>\n",
       "      <td>0.0</td>\n",
       "      <td>0.0</td>\n",
       "      <td>0.0</td>\n",
       "      <td>0.0</td>\n",
       "      <td>0.0</td>\n",
       "      <td>0.0</td>\n",
       "      <td>0.0</td>\n",
       "    </tr>\n",
       "    <tr>\n",
       "      <th>1</th>\n",
       "      <td>Dragonmaster</td>\n",
       "      <td>Dragonmaster is a trick-taking card game based...</td>\n",
       "      <td>https://cf.geekdo-images.com/original/img/o07K...</td>\n",
       "      <td>6.61412</td>\n",
       "      <td>545</td>\n",
       "      <td>3.0</td>\n",
       "      <td>4.0</td>\n",
       "      <td>30.0</td>\n",
       "      <td>0.0</td>\n",
       "      <td>0.0</td>\n",
       "      <td>...</td>\n",
       "      <td>0.0</td>\n",
       "      <td>0.0</td>\n",
       "      <td>1.0</td>\n",
       "      <td>0.0</td>\n",
       "      <td>0.0</td>\n",
       "      <td>0.0</td>\n",
       "      <td>0.0</td>\n",
       "      <td>0.0</td>\n",
       "      <td>0.0</td>\n",
       "      <td>0.0</td>\n",
       "    </tr>\n",
       "    <tr>\n",
       "      <th>2</th>\n",
       "      <td>Samurai</td>\n",
       "      <td>Samurai is set in medieval Japan. Players comp...</td>\n",
       "      <td>https://cf.geekdo-images.com/original/img/mPS5...</td>\n",
       "      <td>7.44438</td>\n",
       "      <td>14332</td>\n",
       "      <td>2.0</td>\n",
       "      <td>4.0</td>\n",
       "      <td>60.0</td>\n",
       "      <td>0.0</td>\n",
       "      <td>1.0</td>\n",
       "      <td>...</td>\n",
       "      <td>0.0</td>\n",
       "      <td>0.0</td>\n",
       "      <td>1.0</td>\n",
       "      <td>0.0</td>\n",
       "      <td>0.0</td>\n",
       "      <td>0.0</td>\n",
       "      <td>0.0</td>\n",
       "      <td>0.0</td>\n",
       "      <td>0.0</td>\n",
       "      <td>0.0</td>\n",
       "    </tr>\n",
       "    <tr>\n",
       "      <th>3</th>\n",
       "      <td>Tal der Könige</td>\n",
       "      <td>When you see the triangular box and the luxuri...</td>\n",
       "      <td>https://cf.geekdo-images.com/original/img/TgcS...</td>\n",
       "      <td>6.61683</td>\n",
       "      <td>334</td>\n",
       "      <td>2.0</td>\n",
       "      <td>4.0</td>\n",
       "      <td>60.0</td>\n",
       "      <td>0.0</td>\n",
       "      <td>1.0</td>\n",
       "      <td>...</td>\n",
       "      <td>0.0</td>\n",
       "      <td>0.0</td>\n",
       "      <td>0.0</td>\n",
       "      <td>0.0</td>\n",
       "      <td>0.0</td>\n",
       "      <td>0.0</td>\n",
       "      <td>0.0</td>\n",
       "      <td>0.0</td>\n",
       "      <td>0.0</td>\n",
       "      <td>0.0</td>\n",
       "    </tr>\n",
       "    <tr>\n",
       "      <th>4</th>\n",
       "      <td>Acquire</td>\n",
       "      <td>In Acquire, each player strategically invests ...</td>\n",
       "      <td>https://cf.geekdo-images.com/original/img/Bz4t...</td>\n",
       "      <td>7.34397</td>\n",
       "      <td>17800</td>\n",
       "      <td>2.0</td>\n",
       "      <td>6.0</td>\n",
       "      <td>90.0</td>\n",
       "      <td>0.0</td>\n",
       "      <td>0.0</td>\n",
       "      <td>...</td>\n",
       "      <td>0.0</td>\n",
       "      <td>0.0</td>\n",
       "      <td>1.0</td>\n",
       "      <td>0.0</td>\n",
       "      <td>0.0</td>\n",
       "      <td>0.0</td>\n",
       "      <td>0.0</td>\n",
       "      <td>0.0</td>\n",
       "      <td>0.0</td>\n",
       "      <td>0.0</td>\n",
       "    </tr>\n",
       "  </tbody>\n",
       "</table>\n",
       "<p>5 rows × 282 columns</p>\n",
       "</div>"
      ],
      "text/plain": [
       "             name                                        description  \\\n",
       "0      Die Macher  Die Macher is a game about seven sequential po...   \n",
       "1    Dragonmaster  Dragonmaster is a trick-taking card game based...   \n",
       "2         Samurai  Samurai is set in medieval Japan. Players comp...   \n",
       "3  Tal der Könige  When you see the triangular box and the luxuri...   \n",
       "4         Acquire  In Acquire, each player strategically invests ...   \n",
       "\n",
       "                                               image   rating  usersrated  \\\n",
       "0  https://cf.geekdo-images.com/original/img/uqlr...  7.62855        5054   \n",
       "1  https://cf.geekdo-images.com/original/img/o07K...  6.61412         545   \n",
       "2  https://cf.geekdo-images.com/original/img/mPS5...  7.44438       14332   \n",
       "3  https://cf.geekdo-images.com/original/img/TgcS...  6.61683         334   \n",
       "4  https://cf.geekdo-images.com/original/img/Bz4t...  7.34397       17800   \n",
       "\n",
       "   minplayers  maxplayers  playingtime  alliances  area majority / influence  \\\n",
       "0         3.0         5.0        240.0        1.0                        1.0   \n",
       "1         3.0         4.0         30.0        0.0                        0.0   \n",
       "2         2.0         4.0         60.0        0.0                        1.0   \n",
       "3         2.0         4.0         60.0        0.0                        1.0   \n",
       "4         2.0         6.0         90.0        0.0                        0.0   \n",
       "\n",
       "   ...  korean war  fan expansion  strategy games  abstract games  \\\n",
       "0  ...         0.0            0.0             1.0             0.0   \n",
       "1  ...         0.0            0.0             1.0             0.0   \n",
       "2  ...         0.0            0.0             1.0             0.0   \n",
       "3  ...         0.0            0.0             0.0             0.0   \n",
       "4  ...         0.0            0.0             1.0             0.0   \n",
       "\n",
       "   family games  thematic games  customizable games  wargames  party games  \\\n",
       "0           0.0             0.0                 0.0       0.0          0.0   \n",
       "1           0.0             0.0                 0.0       0.0          0.0   \n",
       "2           0.0             0.0                 0.0       0.0          0.0   \n",
       "3           0.0             0.0                 0.0       0.0          0.0   \n",
       "4           0.0             0.0                 0.0       0.0          0.0   \n",
       "\n",
       "   children's games  \n",
       "0               0.0  \n",
       "1               0.0  \n",
       "2               0.0  \n",
       "3               0.0  \n",
       "4               0.0  \n",
       "\n",
       "[5 rows x 282 columns]"
      ]
     },
     "execution_count": 60,
     "metadata": {},
     "output_type": "execute_result"
    }
   ],
   "source": [
    "all_data.head()"
   ]
  },
  {
   "cell_type": "markdown",
   "id": "b689e77e",
   "metadata": {},
   "source": [
    "##### 2:\n",
    "And here I will make the seperate vectors (parameters) with the categories inside them. Stored as lists. We want:\n",
    "\n",
    "1. categories\n",
    "2. mechanisms\n",
    "\n",
    "Some other characteristics we want to include in our assignment (in the user output), but it would make no sense to add them to their own list, because we won't use them as matches for user inputs. These are:\n",
    "\n",
    "1. descriptions\n",
    "2. images\n",
    "3. rating\n",
    "4. number of user ratings\n",
    "5. name\n",
    "6. number of players (range) --> we do: (> minplayers) and (< maxplayers)\n",
    "7. play time\n",
    "\n",
    "These characteristics remain in the dataframe called 'all_data', so that they can be extracted when we have a specific boardgame."
   ]
  },
  {
   "cell_type": "code",
   "execution_count": 48,
   "id": "31cc6a68",
   "metadata": {},
   "outputs": [],
   "source": [
    "categories_lst = list(cats.columns)\n",
    "mechanisms_lst = list(mecs.columns)"
   ]
  },
  {
   "cell_type": "markdown",
   "id": "701ae7b7",
   "metadata": {},
   "source": [
    "##### 3:\n",
    "\n",
    "Now I filter through my data, to keep only the boardgames that would realistically be worth presenting to a user. The original dataset has 286,186 board games. Of these, I only want to keep around 10,000.\n",
    "\n",
    "\n",
    "##### Filter 1:\n",
    "\n",
    "Filter out games that have important values missing. Important values are: name, description, image, rating, number of user ratings, playtime."
   ]
  },
  {
   "cell_type": "code",
   "execution_count": 49,
   "id": "895f5498",
   "metadata": {},
   "outputs": [
    {
     "data": {
      "text/plain": [
       "(286186, 282)"
      ]
     },
     "execution_count": 49,
     "metadata": {},
     "output_type": "execute_result"
    }
   ],
   "source": [
    "all_data.shape"
   ]
  },
  {
   "cell_type": "code",
   "execution_count": 55,
   "id": "b912b800",
   "metadata": {},
   "outputs": [
    {
     "data": {
      "text/plain": [
       "(38126, 282)"
      ]
     },
     "execution_count": 55,
     "metadata": {},
     "output_type": "execute_result"
    }
   ],
   "source": [
    "full_data = all_data.dropna(subset=all_data.columns.values)\n",
    "\n",
    "full_data.shape"
   ]
  },
  {
   "cell_type": "markdown",
   "id": "29a07333",
   "metadata": {},
   "source": [
    "##### Filter 2:\n",
    "\n",
    "Of these 38,126 I will only keep games with more than 20 user ratings, which signifies that their rating is somewhat accurate, and not just set artificially by one or few people."
   ]
  },
  {
   "cell_type": "code",
   "execution_count": 74,
   "id": "db270d58",
   "metadata": {},
   "outputs": [
    {
     "data": {
      "text/plain": [
       "(12023, 282)"
      ]
     },
     "execution_count": 74,
     "metadata": {},
     "output_type": "execute_result"
    }
   ],
   "source": [
    "rated_data = full_data[full_data['usersrated']>=20]\n",
    "\n",
    "rated_data.shape"
   ]
  },
  {
   "cell_type": "markdown",
   "id": "8141176b",
   "metadata": {},
   "source": [
    "##### Filter 3:\n",
    "\n",
    "Of these 15,943 keep only those with a rating above 5, because if they have received ratings lower than 5, they are probably not games we would recommend to anyone."
   ]
  },
  {
   "cell_type": "code",
   "execution_count": 75,
   "id": "6c1ba763",
   "metadata": {},
   "outputs": [
    {
     "data": {
      "text/plain": [
       "(10556, 282)"
      ]
     },
     "execution_count": 75,
     "metadata": {},
     "output_type": "execute_result"
    }
   ],
   "source": [
    "good_data = rated_data[rated_data['rating']>5.0]\n",
    "\n",
    "good_data.shape"
   ]
  },
  {
   "cell_type": "markdown",
   "id": "77dd7ac4",
   "metadata": {},
   "source": [
    "Organising the dataframe in decreasing rating order."
   ]
  },
  {
   "cell_type": "code",
   "execution_count": 76,
   "id": "2f5e1a9e",
   "metadata": {
    "scrolled": true
   },
   "outputs": [
    {
     "data": {
      "text/html": [
       "<div>\n",
       "<style scoped>\n",
       "    .dataframe tbody tr th:only-of-type {\n",
       "        vertical-align: middle;\n",
       "    }\n",
       "\n",
       "    .dataframe tbody tr th {\n",
       "        vertical-align: top;\n",
       "    }\n",
       "\n",
       "    .dataframe thead th {\n",
       "        text-align: right;\n",
       "    }\n",
       "</style>\n",
       "<table border=\"1\" class=\"dataframe\">\n",
       "  <thead>\n",
       "    <tr style=\"text-align: right;\">\n",
       "      <th></th>\n",
       "      <th>name</th>\n",
       "      <th>description</th>\n",
       "      <th>image</th>\n",
       "      <th>rating</th>\n",
       "      <th>usersrated</th>\n",
       "      <th>minplayers</th>\n",
       "      <th>maxplayers</th>\n",
       "      <th>playingtime</th>\n",
       "      <th>alliances</th>\n",
       "      <th>area majority / influence</th>\n",
       "      <th>...</th>\n",
       "      <th>korean war</th>\n",
       "      <th>fan expansion</th>\n",
       "      <th>strategy games</th>\n",
       "      <th>abstract games</th>\n",
       "      <th>family games</th>\n",
       "      <th>thematic games</th>\n",
       "      <th>customizable games</th>\n",
       "      <th>wargames</th>\n",
       "      <th>party games</th>\n",
       "      <th>children's games</th>\n",
       "    </tr>\n",
       "  </thead>\n",
       "  <tbody>\n",
       "    <tr>\n",
       "      <th>0</th>\n",
       "      <td>Solomon Sea</td>\n",
       "      <td>(From the Simulation Workshop site) &lt;br/&gt;Desig...</td>\n",
       "      <td>https://cf.geekdo-images.com/original/img/ympt...</td>\n",
       "      <td>8.80909</td>\n",
       "      <td>22</td>\n",
       "      <td>1.0</td>\n",
       "      <td>2.0</td>\n",
       "      <td>360.0</td>\n",
       "      <td>0.0</td>\n",
       "      <td>0.0</td>\n",
       "      <td>...</td>\n",
       "      <td>0.0</td>\n",
       "      <td>0.0</td>\n",
       "      <td>0.0</td>\n",
       "      <td>0.0</td>\n",
       "      <td>0.0</td>\n",
       "      <td>0.0</td>\n",
       "      <td>0.0</td>\n",
       "      <td>0.0</td>\n",
       "      <td>0.0</td>\n",
       "      <td>0.0</td>\n",
       "    </tr>\n",
       "    <tr>\n",
       "      <th>1</th>\n",
       "      <td>RPGQuest: Greek Mythology</td>\n",
       "      <td>A very colorful mixture of RPG and Boardgame, ...</td>\n",
       "      <td>https://cf.geekdo-images.com/original/img/hCHA...</td>\n",
       "      <td>8.80000</td>\n",
       "      <td>45</td>\n",
       "      <td>4.0</td>\n",
       "      <td>12.0</td>\n",
       "      <td>30.0</td>\n",
       "      <td>0.0</td>\n",
       "      <td>0.0</td>\n",
       "      <td>...</td>\n",
       "      <td>0.0</td>\n",
       "      <td>0.0</td>\n",
       "      <td>0.0</td>\n",
       "      <td>0.0</td>\n",
       "      <td>0.0</td>\n",
       "      <td>0.0</td>\n",
       "      <td>0.0</td>\n",
       "      <td>0.0</td>\n",
       "      <td>0.0</td>\n",
       "      <td>0.0</td>\n",
       "    </tr>\n",
       "    <tr>\n",
       "      <th>2</th>\n",
       "      <td>Sports Action Canadian Pro Football</td>\n",
       "      <td>A Canadian Pro Football game that simulated wh...</td>\n",
       "      <td>https://cf.geekdo-images.com/original/img/ycvQ...</td>\n",
       "      <td>8.75714</td>\n",
       "      <td>35</td>\n",
       "      <td>2.0</td>\n",
       "      <td>2.0</td>\n",
       "      <td>60.0</td>\n",
       "      <td>0.0</td>\n",
       "      <td>0.0</td>\n",
       "      <td>...</td>\n",
       "      <td>0.0</td>\n",
       "      <td>0.0</td>\n",
       "      <td>0.0</td>\n",
       "      <td>0.0</td>\n",
       "      <td>0.0</td>\n",
       "      <td>0.0</td>\n",
       "      <td>0.0</td>\n",
       "      <td>0.0</td>\n",
       "      <td>0.0</td>\n",
       "      <td>0.0</td>\n",
       "    </tr>\n",
       "    <tr>\n",
       "      <th>3</th>\n",
       "      <td>Valor of the Guards: ASL Historical Module Num...</td>\n",
       "      <td>(BGG description:)&lt;br/&gt;&lt;br/&gt;This Historical Ad...</td>\n",
       "      <td>https://cf.geekdo-images.com/original/img/o6gx...</td>\n",
       "      <td>8.75212</td>\n",
       "      <td>259</td>\n",
       "      <td>2.0</td>\n",
       "      <td>4.0</td>\n",
       "      <td>600.0</td>\n",
       "      <td>0.0</td>\n",
       "      <td>0.0</td>\n",
       "      <td>...</td>\n",
       "      <td>0.0</td>\n",
       "      <td>0.0</td>\n",
       "      <td>0.0</td>\n",
       "      <td>0.0</td>\n",
       "      <td>0.0</td>\n",
       "      <td>0.0</td>\n",
       "      <td>0.0</td>\n",
       "      <td>0.0</td>\n",
       "      <td>0.0</td>\n",
       "      <td>0.0</td>\n",
       "    </tr>\n",
       "    <tr>\n",
       "      <th>4</th>\n",
       "      <td>Connection Games</td>\n",
       "      <td>In this comprehensive study of the connection ...</td>\n",
       "      <td>https://cf.geekdo-images.com/original/img/Pdte...</td>\n",
       "      <td>8.74194</td>\n",
       "      <td>31</td>\n",
       "      <td>0.0</td>\n",
       "      <td>0.0</td>\n",
       "      <td>0.0</td>\n",
       "      <td>0.0</td>\n",
       "      <td>0.0</td>\n",
       "      <td>...</td>\n",
       "      <td>0.0</td>\n",
       "      <td>0.0</td>\n",
       "      <td>0.0</td>\n",
       "      <td>0.0</td>\n",
       "      <td>0.0</td>\n",
       "      <td>0.0</td>\n",
       "      <td>0.0</td>\n",
       "      <td>0.0</td>\n",
       "      <td>0.0</td>\n",
       "      <td>0.0</td>\n",
       "    </tr>\n",
       "  </tbody>\n",
       "</table>\n",
       "<p>5 rows × 282 columns</p>\n",
       "</div>"
      ],
      "text/plain": [
       "                                                name  \\\n",
       "0                                        Solomon Sea   \n",
       "1                          RPGQuest: Greek Mythology   \n",
       "2                Sports Action Canadian Pro Football   \n",
       "3  Valor of the Guards: ASL Historical Module Num...   \n",
       "4                                   Connection Games   \n",
       "\n",
       "                                         description  \\\n",
       "0  (From the Simulation Workshop site) <br/>Desig...   \n",
       "1  A very colorful mixture of RPG and Boardgame, ...   \n",
       "2  A Canadian Pro Football game that simulated wh...   \n",
       "3  (BGG description:)<br/><br/>This Historical Ad...   \n",
       "4  In this comprehensive study of the connection ...   \n",
       "\n",
       "                                               image   rating  usersrated  \\\n",
       "0  https://cf.geekdo-images.com/original/img/ympt...  8.80909          22   \n",
       "1  https://cf.geekdo-images.com/original/img/hCHA...  8.80000          45   \n",
       "2  https://cf.geekdo-images.com/original/img/ycvQ...  8.75714          35   \n",
       "3  https://cf.geekdo-images.com/original/img/o6gx...  8.75212         259   \n",
       "4  https://cf.geekdo-images.com/original/img/Pdte...  8.74194          31   \n",
       "\n",
       "   minplayers  maxplayers  playingtime  alliances  area majority / influence  \\\n",
       "0         1.0         2.0        360.0        0.0                        0.0   \n",
       "1         4.0        12.0         30.0        0.0                        0.0   \n",
       "2         2.0         2.0         60.0        0.0                        0.0   \n",
       "3         2.0         4.0        600.0        0.0                        0.0   \n",
       "4         0.0         0.0          0.0        0.0                        0.0   \n",
       "\n",
       "   ...  korean war  fan expansion  strategy games  abstract games  \\\n",
       "0  ...         0.0            0.0             0.0             0.0   \n",
       "1  ...         0.0            0.0             0.0             0.0   \n",
       "2  ...         0.0            0.0             0.0             0.0   \n",
       "3  ...         0.0            0.0             0.0             0.0   \n",
       "4  ...         0.0            0.0             0.0             0.0   \n",
       "\n",
       "   family games  thematic games  customizable games  wargames  party games  \\\n",
       "0           0.0             0.0                 0.0       0.0          0.0   \n",
       "1           0.0             0.0                 0.0       0.0          0.0   \n",
       "2           0.0             0.0                 0.0       0.0          0.0   \n",
       "3           0.0             0.0                 0.0       0.0          0.0   \n",
       "4           0.0             0.0                 0.0       0.0          0.0   \n",
       "\n",
       "   children's games  \n",
       "0               0.0  \n",
       "1               0.0  \n",
       "2               0.0  \n",
       "3               0.0  \n",
       "4               0.0  \n",
       "\n",
       "[5 rows x 282 columns]"
      ]
     },
     "execution_count": 76,
     "metadata": {},
     "output_type": "execute_result"
    }
   ],
   "source": [
    "final_data = fuller_data.sort_values('rating', ascending=False)\n",
    "final_data.reset_index(drop=True, inplace=True)\n",
    "\n",
    "final_data.head()"
   ]
  },
  {
   "cell_type": "markdown",
   "id": "d62c2b6e",
   "metadata": {},
   "source": [
    "##### 4:\n",
    "Now I turn everything into a csv and download it:"
   ]
  },
  {
   "cell_type": "code",
   "execution_count": 77,
   "id": "3b111d34",
   "metadata": {},
   "outputs": [],
   "source": [
    "final_data.to_csv('final_data.csv')"
   ]
  }
 ],
 "metadata": {
  "kernelspec": {
   "display_name": "Python 3 (ipykernel)",
   "language": "python",
   "name": "python3"
  },
  "language_info": {
   "codemirror_mode": {
    "name": "ipython",
    "version": 3
   },
   "file_extension": ".py",
   "mimetype": "text/x-python",
   "name": "python",
   "nbconvert_exporter": "python",
   "pygments_lexer": "ipython3",
   "version": "3.9.16"
  }
 },
 "nbformat": 4,
 "nbformat_minor": 5
}

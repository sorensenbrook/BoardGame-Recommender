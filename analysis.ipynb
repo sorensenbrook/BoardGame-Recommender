{
  "nbformat": 4,
  "nbformat_minor": 0,
  "metadata": {
    "colab": {
      "provenance": []
    },
    "kernelspec": {
      "name": "python3",
      "display_name": "Python 3"
    },
    "language_info": {
      "name": "python"
    }
  },
  "cells": [
    {
      "cell_type": "code",
      "source": [
        "from google.colab import drive\n",
        "drive.mount('/content/drive/')"
      ],
      "metadata": {
        "colab": {
          "base_uri": "https://localhost:8080/"
        },
        "id": "Hr1addzxSsTL",
        "outputId": "e77f27da-abfe-4cb4-9228-af01968d5e71"
      },
      "execution_count": 97,
      "outputs": [
        {
          "output_type": "stream",
          "name": "stdout",
          "text": [
            "Drive already mounted at /content/drive/; to attempt to forcibly remount, call drive.mount(\"/content/drive/\", force_remount=True).\n"
          ]
        }
      ]
    },
    {
      "cell_type": "code",
      "source": [
        "from google.colab import auth\n",
        "import gspread\n",
        "from google.auth import default\n",
        "#autenticating to google\n",
        "auth.authenticate_user()\n",
        "creds, _ = default()\n",
        "gc = gspread.authorize(creds)"
      ],
      "metadata": {
        "id": "GoA0AMqjTD71"
      },
      "execution_count": 98,
      "outputs": []
    },
    {
      "cell_type": "markdown",
      "source": [
        "# Set Up"
      ],
      "metadata": {
        "id": "YUq2wEKORu5w"
      }
    },
    {
      "cell_type": "code",
      "execution_count": 99,
      "metadata": {
        "colab": {
          "base_uri": "https://localhost:8080/"
        },
        "id": "faWDNaVTRjqO",
        "outputId": "9b319a1f-6c69-4ea5-ecb7-acbdf8ee43f9"
      },
      "outputs": [
        {
          "output_type": "stream",
          "name": "stdout",
          "text": [
            "Reading package lists... Done\n",
            "Building dependency tree       \n",
            "Reading state information... Done\n",
            "xvfb is already the newest version (2:1.20.13-1ubuntu1~20.04.8).\n",
            "0 upgraded, 0 newly installed, 0 to remove and 34 not upgraded.\n"
          ]
        }
      ],
      "source": [
        "!apt-get install -y xvfb # Install X Virtual Frame Buffer\n",
        "import os\n",
        "os.system('Xvfb :1 -screen 0 1600x1200x16  &')  # start it\n",
        "os.environ['DISPLAY']=':1.0'  # tells X clients where to connect to"
      ]
    },
    {
      "cell_type": "code",
      "source": [
        "!pip install keybert\n",
        "!pip install KeyBERT"
      ],
      "metadata": {
        "colab": {
          "base_uri": "https://localhost:8080/"
        },
        "id": "KJgSN0fwRpph",
        "outputId": "265e45f7-f0e7-46ad-f690-0a34b6532a50"
      },
      "execution_count": 100,
      "outputs": [
        {
          "output_type": "stream",
          "name": "stdout",
          "text": [
            "Looking in indexes: https://pypi.org/simple, https://us-python.pkg.dev/colab-wheels/public/simple/\n",
            "Requirement already satisfied: keybert in /usr/local/lib/python3.10/dist-packages (0.7.0)\n",
            "Requirement already satisfied: sentence-transformers>=0.3.8 in /usr/local/lib/python3.10/dist-packages (from keybert) (2.2.2)\n",
            "Requirement already satisfied: scikit-learn>=0.22.2 in /usr/local/lib/python3.10/dist-packages (from keybert) (1.2.2)\n",
            "Requirement already satisfied: numpy>=1.18.5 in /usr/local/lib/python3.10/dist-packages (from keybert) (1.22.4)\n",
            "Requirement already satisfied: rich>=10.4.0 in /usr/local/lib/python3.10/dist-packages (from keybert) (13.3.4)\n",
            "Requirement already satisfied: markdown-it-py<3.0.0,>=2.2.0 in /usr/local/lib/python3.10/dist-packages (from rich>=10.4.0->keybert) (2.2.0)\n",
            "Requirement already satisfied: pygments<3.0.0,>=2.13.0 in /usr/local/lib/python3.10/dist-packages (from rich>=10.4.0->keybert) (2.14.0)\n",
            "Requirement already satisfied: scipy>=1.3.2 in /usr/local/lib/python3.10/dist-packages (from scikit-learn>=0.22.2->keybert) (1.10.1)\n",
            "Requirement already satisfied: joblib>=1.1.1 in /usr/local/lib/python3.10/dist-packages (from scikit-learn>=0.22.2->keybert) (1.2.0)\n",
            "Requirement already satisfied: threadpoolctl>=2.0.0 in /usr/local/lib/python3.10/dist-packages (from scikit-learn>=0.22.2->keybert) (3.1.0)\n",
            "Requirement already satisfied: transformers<5.0.0,>=4.6.0 in /usr/local/lib/python3.10/dist-packages (from sentence-transformers>=0.3.8->keybert) (4.29.2)\n",
            "Requirement already satisfied: tqdm in /usr/local/lib/python3.10/dist-packages (from sentence-transformers>=0.3.8->keybert) (4.65.0)\n",
            "Requirement already satisfied: torch>=1.6.0 in /usr/local/lib/python3.10/dist-packages (from sentence-transformers>=0.3.8->keybert) (2.0.1+cu118)\n",
            "Requirement already satisfied: torchvision in /usr/local/lib/python3.10/dist-packages (from sentence-transformers>=0.3.8->keybert) (0.15.2+cu118)\n",
            "Requirement already satisfied: nltk in /usr/local/lib/python3.10/dist-packages (from sentence-transformers>=0.3.8->keybert) (3.8.1)\n",
            "Requirement already satisfied: sentencepiece in /usr/local/lib/python3.10/dist-packages (from sentence-transformers>=0.3.8->keybert) (0.1.99)\n",
            "Requirement already satisfied: huggingface-hub>=0.4.0 in /usr/local/lib/python3.10/dist-packages (from sentence-transformers>=0.3.8->keybert) (0.14.1)\n",
            "Requirement already satisfied: filelock in /usr/local/lib/python3.10/dist-packages (from huggingface-hub>=0.4.0->sentence-transformers>=0.3.8->keybert) (3.12.0)\n",
            "Requirement already satisfied: fsspec in /usr/local/lib/python3.10/dist-packages (from huggingface-hub>=0.4.0->sentence-transformers>=0.3.8->keybert) (2023.4.0)\n",
            "Requirement already satisfied: requests in /usr/local/lib/python3.10/dist-packages (from huggingface-hub>=0.4.0->sentence-transformers>=0.3.8->keybert) (2.27.1)\n",
            "Requirement already satisfied: pyyaml>=5.1 in /usr/local/lib/python3.10/dist-packages (from huggingface-hub>=0.4.0->sentence-transformers>=0.3.8->keybert) (6.0)\n",
            "Requirement already satisfied: typing-extensions>=3.7.4.3 in /usr/local/lib/python3.10/dist-packages (from huggingface-hub>=0.4.0->sentence-transformers>=0.3.8->keybert) (4.5.0)\n",
            "Requirement already satisfied: packaging>=20.9 in /usr/local/lib/python3.10/dist-packages (from huggingface-hub>=0.4.0->sentence-transformers>=0.3.8->keybert) (23.1)\n",
            "Requirement already satisfied: mdurl~=0.1 in /usr/local/lib/python3.10/dist-packages (from markdown-it-py<3.0.0,>=2.2.0->rich>=10.4.0->keybert) (0.1.2)\n",
            "Requirement already satisfied: sympy in /usr/local/lib/python3.10/dist-packages (from torch>=1.6.0->sentence-transformers>=0.3.8->keybert) (1.11.1)\n",
            "Requirement already satisfied: networkx in /usr/local/lib/python3.10/dist-packages (from torch>=1.6.0->sentence-transformers>=0.3.8->keybert) (3.1)\n",
            "Requirement already satisfied: jinja2 in /usr/local/lib/python3.10/dist-packages (from torch>=1.6.0->sentence-transformers>=0.3.8->keybert) (3.1.2)\n",
            "Requirement already satisfied: triton==2.0.0 in /usr/local/lib/python3.10/dist-packages (from torch>=1.6.0->sentence-transformers>=0.3.8->keybert) (2.0.0)\n",
            "Requirement already satisfied: cmake in /usr/local/lib/python3.10/dist-packages (from triton==2.0.0->torch>=1.6.0->sentence-transformers>=0.3.8->keybert) (3.25.2)\n",
            "Requirement already satisfied: lit in /usr/local/lib/python3.10/dist-packages (from triton==2.0.0->torch>=1.6.0->sentence-transformers>=0.3.8->keybert) (16.0.5)\n",
            "Requirement already satisfied: regex!=2019.12.17 in /usr/local/lib/python3.10/dist-packages (from transformers<5.0.0,>=4.6.0->sentence-transformers>=0.3.8->keybert) (2022.10.31)\n",
            "Requirement already satisfied: tokenizers!=0.11.3,<0.14,>=0.11.1 in /usr/local/lib/python3.10/dist-packages (from transformers<5.0.0,>=4.6.0->sentence-transformers>=0.3.8->keybert) (0.13.3)\n",
            "Requirement already satisfied: click in /usr/local/lib/python3.10/dist-packages (from nltk->sentence-transformers>=0.3.8->keybert) (8.1.3)\n",
            "Requirement already satisfied: pillow!=8.3.*,>=5.3.0 in /usr/local/lib/python3.10/dist-packages (from torchvision->sentence-transformers>=0.3.8->keybert) (8.4.0)\n",
            "Requirement already satisfied: MarkupSafe>=2.0 in /usr/local/lib/python3.10/dist-packages (from jinja2->torch>=1.6.0->sentence-transformers>=0.3.8->keybert) (2.1.2)\n",
            "Requirement already satisfied: urllib3<1.27,>=1.21.1 in /usr/local/lib/python3.10/dist-packages (from requests->huggingface-hub>=0.4.0->sentence-transformers>=0.3.8->keybert) (1.26.15)\n",
            "Requirement already satisfied: certifi>=2017.4.17 in /usr/local/lib/python3.10/dist-packages (from requests->huggingface-hub>=0.4.0->sentence-transformers>=0.3.8->keybert) (2022.12.7)\n",
            "Requirement already satisfied: charset-normalizer~=2.0.0 in /usr/local/lib/python3.10/dist-packages (from requests->huggingface-hub>=0.4.0->sentence-transformers>=0.3.8->keybert) (2.0.12)\n",
            "Requirement already satisfied: idna<4,>=2.5 in /usr/local/lib/python3.10/dist-packages (from requests->huggingface-hub>=0.4.0->sentence-transformers>=0.3.8->keybert) (3.4)\n",
            "Requirement already satisfied: mpmath>=0.19 in /usr/local/lib/python3.10/dist-packages (from sympy->torch>=1.6.0->sentence-transformers>=0.3.8->keybert) (1.3.0)\n",
            "Looking in indexes: https://pypi.org/simple, https://us-python.pkg.dev/colab-wheels/public/simple/\n",
            "Requirement already satisfied: KeyBERT in /usr/local/lib/python3.10/dist-packages (0.7.0)\n",
            "Requirement already satisfied: sentence-transformers>=0.3.8 in /usr/local/lib/python3.10/dist-packages (from KeyBERT) (2.2.2)\n",
            "Requirement already satisfied: scikit-learn>=0.22.2 in /usr/local/lib/python3.10/dist-packages (from KeyBERT) (1.2.2)\n",
            "Requirement already satisfied: numpy>=1.18.5 in /usr/local/lib/python3.10/dist-packages (from KeyBERT) (1.22.4)\n",
            "Requirement already satisfied: rich>=10.4.0 in /usr/local/lib/python3.10/dist-packages (from KeyBERT) (13.3.4)\n",
            "Requirement already satisfied: markdown-it-py<3.0.0,>=2.2.0 in /usr/local/lib/python3.10/dist-packages (from rich>=10.4.0->KeyBERT) (2.2.0)\n",
            "Requirement already satisfied: pygments<3.0.0,>=2.13.0 in /usr/local/lib/python3.10/dist-packages (from rich>=10.4.0->KeyBERT) (2.14.0)\n",
            "Requirement already satisfied: scipy>=1.3.2 in /usr/local/lib/python3.10/dist-packages (from scikit-learn>=0.22.2->KeyBERT) (1.10.1)\n",
            "Requirement already satisfied: joblib>=1.1.1 in /usr/local/lib/python3.10/dist-packages (from scikit-learn>=0.22.2->KeyBERT) (1.2.0)\n",
            "Requirement already satisfied: threadpoolctl>=2.0.0 in /usr/local/lib/python3.10/dist-packages (from scikit-learn>=0.22.2->KeyBERT) (3.1.0)\n",
            "Requirement already satisfied: transformers<5.0.0,>=4.6.0 in /usr/local/lib/python3.10/dist-packages (from sentence-transformers>=0.3.8->KeyBERT) (4.29.2)\n",
            "Requirement already satisfied: tqdm in /usr/local/lib/python3.10/dist-packages (from sentence-transformers>=0.3.8->KeyBERT) (4.65.0)\n",
            "Requirement already satisfied: torch>=1.6.0 in /usr/local/lib/python3.10/dist-packages (from sentence-transformers>=0.3.8->KeyBERT) (2.0.1+cu118)\n",
            "Requirement already satisfied: torchvision in /usr/local/lib/python3.10/dist-packages (from sentence-transformers>=0.3.8->KeyBERT) (0.15.2+cu118)\n",
            "Requirement already satisfied: nltk in /usr/local/lib/python3.10/dist-packages (from sentence-transformers>=0.3.8->KeyBERT) (3.8.1)\n",
            "Requirement already satisfied: sentencepiece in /usr/local/lib/python3.10/dist-packages (from sentence-transformers>=0.3.8->KeyBERT) (0.1.99)\n",
            "Requirement already satisfied: huggingface-hub>=0.4.0 in /usr/local/lib/python3.10/dist-packages (from sentence-transformers>=0.3.8->KeyBERT) (0.14.1)\n",
            "Requirement already satisfied: filelock in /usr/local/lib/python3.10/dist-packages (from huggingface-hub>=0.4.0->sentence-transformers>=0.3.8->KeyBERT) (3.12.0)\n",
            "Requirement already satisfied: fsspec in /usr/local/lib/python3.10/dist-packages (from huggingface-hub>=0.4.0->sentence-transformers>=0.3.8->KeyBERT) (2023.4.0)\n",
            "Requirement already satisfied: requests in /usr/local/lib/python3.10/dist-packages (from huggingface-hub>=0.4.0->sentence-transformers>=0.3.8->KeyBERT) (2.27.1)\n",
            "Requirement already satisfied: pyyaml>=5.1 in /usr/local/lib/python3.10/dist-packages (from huggingface-hub>=0.4.0->sentence-transformers>=0.3.8->KeyBERT) (6.0)\n",
            "Requirement already satisfied: typing-extensions>=3.7.4.3 in /usr/local/lib/python3.10/dist-packages (from huggingface-hub>=0.4.0->sentence-transformers>=0.3.8->KeyBERT) (4.5.0)\n",
            "Requirement already satisfied: packaging>=20.9 in /usr/local/lib/python3.10/dist-packages (from huggingface-hub>=0.4.0->sentence-transformers>=0.3.8->KeyBERT) (23.1)\n",
            "Requirement already satisfied: mdurl~=0.1 in /usr/local/lib/python3.10/dist-packages (from markdown-it-py<3.0.0,>=2.2.0->rich>=10.4.0->KeyBERT) (0.1.2)\n",
            "Requirement already satisfied: sympy in /usr/local/lib/python3.10/dist-packages (from torch>=1.6.0->sentence-transformers>=0.3.8->KeyBERT) (1.11.1)\n",
            "Requirement already satisfied: networkx in /usr/local/lib/python3.10/dist-packages (from torch>=1.6.0->sentence-transformers>=0.3.8->KeyBERT) (3.1)\n",
            "Requirement already satisfied: jinja2 in /usr/local/lib/python3.10/dist-packages (from torch>=1.6.0->sentence-transformers>=0.3.8->KeyBERT) (3.1.2)\n",
            "Requirement already satisfied: triton==2.0.0 in /usr/local/lib/python3.10/dist-packages (from torch>=1.6.0->sentence-transformers>=0.3.8->KeyBERT) (2.0.0)\n",
            "Requirement already satisfied: cmake in /usr/local/lib/python3.10/dist-packages (from triton==2.0.0->torch>=1.6.0->sentence-transformers>=0.3.8->KeyBERT) (3.25.2)\n",
            "Requirement already satisfied: lit in /usr/local/lib/python3.10/dist-packages (from triton==2.0.0->torch>=1.6.0->sentence-transformers>=0.3.8->KeyBERT) (16.0.5)\n",
            "Requirement already satisfied: regex!=2019.12.17 in /usr/local/lib/python3.10/dist-packages (from transformers<5.0.0,>=4.6.0->sentence-transformers>=0.3.8->KeyBERT) (2022.10.31)\n",
            "Requirement already satisfied: tokenizers!=0.11.3,<0.14,>=0.11.1 in /usr/local/lib/python3.10/dist-packages (from transformers<5.0.0,>=4.6.0->sentence-transformers>=0.3.8->KeyBERT) (0.13.3)\n",
            "Requirement already satisfied: click in /usr/local/lib/python3.10/dist-packages (from nltk->sentence-transformers>=0.3.8->KeyBERT) (8.1.3)\n",
            "Requirement already satisfied: pillow!=8.3.*,>=5.3.0 in /usr/local/lib/python3.10/dist-packages (from torchvision->sentence-transformers>=0.3.8->KeyBERT) (8.4.0)\n",
            "Requirement already satisfied: MarkupSafe>=2.0 in /usr/local/lib/python3.10/dist-packages (from jinja2->torch>=1.6.0->sentence-transformers>=0.3.8->KeyBERT) (2.1.2)\n",
            "Requirement already satisfied: urllib3<1.27,>=1.21.1 in /usr/local/lib/python3.10/dist-packages (from requests->huggingface-hub>=0.4.0->sentence-transformers>=0.3.8->KeyBERT) (1.26.15)\n",
            "Requirement already satisfied: certifi>=2017.4.17 in /usr/local/lib/python3.10/dist-packages (from requests->huggingface-hub>=0.4.0->sentence-transformers>=0.3.8->KeyBERT) (2022.12.7)\n",
            "Requirement already satisfied: charset-normalizer~=2.0.0 in /usr/local/lib/python3.10/dist-packages (from requests->huggingface-hub>=0.4.0->sentence-transformers>=0.3.8->KeyBERT) (2.0.12)\n",
            "Requirement already satisfied: idna<4,>=2.5 in /usr/local/lib/python3.10/dist-packages (from requests->huggingface-hub>=0.4.0->sentence-transformers>=0.3.8->KeyBERT) (3.4)\n",
            "Requirement already satisfied: mpmath>=0.19 in /usr/local/lib/python3.10/dist-packages (from sympy->torch>=1.6.0->sentence-transformers>=0.3.8->KeyBERT) (1.3.0)\n"
          ]
        }
      ]
    },
    {
      "cell_type": "code",
      "source": [
        "import pandas as pd\n",
        "import random\n",
        "import copy\n",
        "from keybert import KeyBERT\n",
        "import nltk\n",
        "import re\n",
        "import csv\n",
        "from nltk import word_tokenize\n",
        "import gensim.downloader as api"
      ],
      "metadata": {
        "id": "OZHWiPRBR8Dy"
      },
      "execution_count": 101,
      "outputs": []
    },
    {
      "cell_type": "markdown",
      "source": [
        "# Key Word Extraction"
      ],
      "metadata": {
        "id": "wMz6Gso3SAQg"
      }
    },
    {
      "cell_type": "code",
      "source": [
        "# Using BERT model to get to most valuable word from the answer, in this case the catagory or the mechanism\n",
        "sw = ['boardgames', 'boardgame', 'theme', 'game', 'games', 'themes', 'set', 'atmosphere', 'topic', 'topics', 'mechanisms', 'mechanism']\n",
        "kw_model = KeyBERT()\n",
        "\n",
        "def extract_keyword(input_user):\n",
        "    all_keywords = kw_model.extract_keywords(input_user, stop_words=sw)\n",
        "    return all_keywords[0][0]"
      ],
      "metadata": {
        "id": "OiVaV2dkSD60"
      },
      "execution_count": 102,
      "outputs": []
    },
    {
      "cell_type": "code",
      "source": [
        "def find_spelled_integers(sentence):\n",
        "    # Define a dictionary to map spelled-out numbers to their corresponding integer values\n",
        "    number_dict = {\n",
        "        'zero': 0, 'one': 1, 'two': 2, 'three': 3, 'four': 4, 'five': 5, 'six': 6,\n",
        "        'seven': 7, 'eight': 8, 'nine': 9, 'ten': 10, 'eleven': 11, 'twelve': 12,\n",
        "        'thirteen': 13, 'fourteen': 14, 'fifteen': 15, 'sixteen': 16, 'seventeen': 17,\n",
        "        'eighteen': 18, 'nineteen': 19, 'twenty': 20, 'thirty': 30, 'forty': 40,\n",
        "        'fifty': 50, 'sixty': 60, 'seventy': 70, 'eighty': 80, 'ninety': 90,\n",
        "        'hundred': 100, 'thousand': 1000\n",
        "    }\n",
        "\n",
        "    # Define a pattern to match spelled-out numbers\n",
        "    pattern = r\"\\b(?:{})\\b\".format(\"|\".join(number_dict.keys()))\n",
        "\n",
        "    # Find all matches of spelled-out numbers in the sentence\n",
        "    matches = re.findall(pattern, sentence, re.IGNORECASE)\n",
        "\n",
        "    # Convert the spelled-out numbers to integers\n",
        "    integers = [number_dict[match.lower()] for match in matches]\n",
        "\n",
        "    # Remove duplicate integers\n",
        "    integers = list(set(integers))\n",
        "\n",
        "    return integers\n",
        "\n",
        "def find_intergers(sentence):\n",
        "    tok_input = nltk.tokenize.word_tokenize(sentence)\n",
        "    nums = [int(word) for word in tok_input if word.isdigit()]\n",
        "    return nums\n",
        "\n",
        "def find_all_numbers(user_input):\n",
        "    '''\n",
        "    Returns a list with smallest number and biggest number the users' answer  \n",
        "    '''\n",
        "    lst1 = find_intergers(user_input)\n",
        "    lst2 = find_spelled_integers(user_input)\n",
        "    lst_nums = lst1+lst2\n",
        "    if len(lst_nums) == 1:\n",
        "        return [0, lst_nums[0]]\n",
        "    else:\n",
        "        return [min(lst_nums), max(lst_nums)]"
      ],
      "metadata": {
        "id": "2vzHLpksSIfd"
      },
      "execution_count": 103,
      "outputs": []
    },
    {
      "cell_type": "markdown",
      "source": [
        "# Similarity Comparison"
      ],
      "metadata": {
        "id": "Rv5f-NgaSWQk"
      }
    },
    {
      "cell_type": "code",
      "source": [
        "import csv\n",
        "\n",
        "category_list = []  \n",
        "mechanism_list = []\n",
        "\n",
        "\n",
        "f = open(\"/content/drive/MyDrive/Colab_Notebooks/data/categories.csv\")\n",
        "category_list = list(csv.reader(f))\n",
        "\n",
        "#for some reason bayes_rating shows up twice in this list\n",
        "category_list.remove(['bayes_rating'])\n",
        "category_list.remove(['bayes_rating'])\n",
        "\n",
        "f.close\n",
        "\n",
        "\n",
        "f = open(\"/content/drive/MyDrive/Colab_Notebooks/data/mechanisms.csv\")\n",
        "mechanism_list = list(csv.reader(f))\n",
        "\n",
        "mechanism_list.remove(['bayes_rating'])\n",
        "mechanism_list.remove(['rating'])\n",
        "\n",
        "f.close\n",
        "\n",
        "def lowercase (lst):\n",
        "  new_lst = []\n",
        "  for item in lst:\n",
        "    temp_item = []\n",
        "    for word in item:\n",
        "      temp = word.lower()\n",
        "      temp_item.append(temp)\n",
        "    new_lst.append(temp_item)\n",
        "  \n",
        "  return new_lst\n",
        "\n",
        "cat_list_lower = lowercase(category_list)\n",
        "mech_list_lower = lowercase(mechanism_list)\n"
      ],
      "metadata": {
        "id": "VWIOJCxsSa_K"
      },
      "execution_count": 104,
      "outputs": []
    },
    {
      "cell_type": "code",
      "source": [
        "import nltk\n",
        "from nltk import word_tokenize\n",
        "nltk.download(\"punkt\")\n",
        "nltk.download(\"stopwords\")\n",
        "from nltk.stem import WordNetLemmatizer\n",
        "import re\n",
        "\n",
        "stops = set(nltk.corpus.stopwords.words('english'))\n",
        "common_tokens = ['game', 'games', ':', \"'s\",]\n",
        "\n",
        "\n",
        "def tokenize (feature_list):\n",
        "  \n",
        "  temp_list = []\n",
        "\n",
        "  for item in feature_list:\n",
        "    word = item[0].replace('/', ' ')\n",
        "    word = word.replace('-', ' ')\n",
        "    word = word.replace('Minimap', 'mini map')\n",
        "    \n",
        "    temp_tokens = word_tokenize(word.lower())\n",
        "    filtered = [w for w in temp_tokens \n",
        "                if not w in stops \n",
        "                and not w in common_tokens]\n",
        "\n",
        "    temp_list.append(filtered)\n",
        "\n",
        "  return temp_list\n",
        "\n",
        "\n",
        "clean_cat = tokenize(category_list)\n",
        "clean_mech = tokenize(mechanism_list)"
      ],
      "metadata": {
        "colab": {
          "base_uri": "https://localhost:8080/"
        },
        "id": "sxlsrgMSSyXo",
        "outputId": "07a614f6-55fb-4d14-9878-fada37666869"
      },
      "execution_count": 105,
      "outputs": [
        {
          "output_type": "stream",
          "name": "stderr",
          "text": [
            "[nltk_data] Downloading package punkt to /root/nltk_data...\n",
            "[nltk_data]   Package punkt is already up-to-date!\n",
            "[nltk_data] Downloading package stopwords to /root/nltk_data...\n",
            "[nltk_data]   Package stopwords is already up-to-date!\n"
          ]
        }
      ]
    },
    {
      "cell_type": "code",
      "source": [
        "from gensim.models import Word2Vec, KeyedVectors\n",
        "import pandas as pd\n",
        "import gensim.downloader as api\n",
        "wv = api.load('glove-wiki-gigaword-100') "
      ],
      "metadata": {
        "id": "CY52_KhFS2vW"
      },
      "execution_count": 106,
      "outputs": []
    },
    {
      "cell_type": "code",
      "source": [
        "def user_to_features (feature_list, user_input, dataform_list):\n",
        "  \n",
        "  sim_list = []\n",
        "\n",
        "  for feature in feature_list:\n",
        "    average = 0\n",
        "    for word in feature:\n",
        "      try:\n",
        "        sim_val = wv.similarity(word, user_input)\n",
        "        average = average + sim_val\n",
        "      except:\n",
        "        average = 0\n",
        "\n",
        "    average = average / len(feature)\n",
        "    temp_tuple = (feature, average)\n",
        "    sim_list.append(temp_tuple)\n",
        "        \n",
        "  sim_df = pd.DataFrame(sim_list, columns = ['word', 'sim']) \n",
        "  sim_df = sim_df.sort_values(by=['sim'], ascending=False)\n",
        "\n",
        "  index = sim_df.index[0]\n",
        "\n",
        "  stats = sim_df\n",
        "  #print(stats)\n",
        "\n",
        "  return dataform_list[index]"
      ],
      "metadata": {
        "id": "8FWA72aVS44s"
      },
      "execution_count": 107,
      "outputs": []
    },
    {
      "cell_type": "markdown",
      "source": [
        "# Find Board Game"
      ],
      "metadata": {
        "id": "c5yNMxCBS84U"
      }
    },
    {
      "cell_type": "markdown",
      "source": [
        "# Import User Data from Form"
      ],
      "metadata": {
        "id": "W0dUU_LbS_5A"
      }
    },
    {
      "cell_type": "code",
      "source": [
        "import pandas as pd\n",
        "#defining my worksheet\n",
        "worksheet = gc.open('Board Game Recommender Survey (Responses)').sheet1\n",
        "#get_all_values gives a list of rows\n",
        "rows = worksheet.get_all_values()\n",
        "#Convert to a DataFrame \n",
        "df = pd.DataFrame(rows)\n",
        "\n",
        "#creating columns name\n",
        "df.columns = df.iloc[0]\n",
        "df = df.iloc[1:]"
      ],
      "metadata": {
        "id": "wPSt-ggzUZkW"
      },
      "execution_count": 108,
      "outputs": []
    },
    {
      "cell_type": "code",
      "source": [
        "print(df.head)"
      ],
      "metadata": {
        "colab": {
          "base_uri": "https://localhost:8080/"
        },
        "id": "xS4B3XTfUjuG",
        "outputId": "5bf1f429-f427-4b64-efbb-ad3e155c4814"
      },
      "execution_count": 109,
      "outputs": [
        {
          "output_type": "stream",
          "name": "stdout",
          "text": [
            "<bound method NDFrame.head of 0            Timestamp                Email Address  \\\n",
            "1   5/26/2023 17:17:52             schat160@umm.edu   \n",
            "2   5/26/2023 18:02:07      joshdfrench@outlook.com   \n",
            "3    5/27/2023 0:14:40     patrickdysart2@gmail.com   \n",
            "4    5/27/2023 0:16:09             booth250@umn.edu   \n",
            "5    5/27/2023 0:31:35     gerardtheplant@gmail.com   \n",
            "6    5/27/2023 0:40:24             pusch030@umn.edu   \n",
            "7    5/27/2023 1:37:12         smgiinthir@gmail.com   \n",
            "8    5/27/2023 5:52:15             silve490@umn.edu   \n",
            "9   5/28/2023 12:50:15         bejczyvera@gmail.com   \n",
            "10  5/28/2023 12:52:39  06-squad.protein@icloud.com   \n",
            "11  5/28/2023 12:56:27     emma.beukers@hotmail.com   \n",
            "12  5/28/2023 12:59:28   mathildepaquet19@gmail.com   \n",
            "13  5/28/2023 13:00:56           clopro15@gmail.com   \n",
            "14  5/28/2023 13:11:55        kjsdenotter@gmail.com   \n",
            "15  5/28/2023 13:15:07  gayatri.srikant18@gmail.com   \n",
            "16  5/28/2023 13:27:37    MateoAbrahami@outlook.com   \n",
            "17  5/28/2023 13:46:26       sebastian@backtalk.com   \n",
            "18  5/28/2023 14:11:54     laurehajislam7@gmail.com   \n",
            "19  5/28/2023 15:23:18       paulavermaas@gmail.com   \n",
            "20  5/28/2023 15:53:07        leihabinger@gmail.com   \n",
            "21  5/28/2023 18:02:07         cvillar1@fordham.edu   \n",
            "\n",
            "0  🟥 Q1: What overall theme would you prefer your boardgame to have? In what setting should the game take place? For example, a medieval, civil war, or trains-themed setting?  \\\n",
            "1                                              Trains                                                                                                                            \n",
            "2                                           classical                                                                                                                            \n",
            "3                                   Fantasy or Sci-Fi                                                                                                                            \n",
            "4                            Fantasy and or medieval                                                                                                                             \n",
            "5   Fantasy settings like castles/medieval vibes, ...                                                                                                                            \n",
            "6   I would say I primarily prefer spooky, horror-...                                                                                                                            \n",
            "7                                               Space                                                                                                                            \n",
            "8                                          Speak easy                                                                                                                            \n",
            "9                                cities, art, flowers                                                                                                                            \n",
            "10                                             nature                                                                                                                            \n",
            "11                                            Fantasy                                                                                                                            \n",
            "12                                      Fantasy world                                                                                                                            \n",
            "13                                         Futuristic                                                                                                                            \n",
            "14                                     forest, nature                                                                                                                            \n",
            "15                               no physical setting                                                                                                                             \n",
            "16                                       Fantasy land                                                                                                                            \n",
            "17                                      Fantasy world                                                                                                                            \n",
            "18                      It should be monarchy themed.                                                                                                                            \n",
            "19                           A wordly or city setting                                                                                                                            \n",
            "20                               modern theme/cartoon                                                                                                                            \n",
            "21                                        Outer space                                                                                                                            \n",
            "\n",
            "0  🟧 Q2: What type of game should it be? Like for example, a city building, humor, or dice-usage based game?  \\\n",
            "1                                      Dice, strategy                                                          \n",
            "2                                            strategy                                                          \n",
            "3                            Strategy with dice-usage                                                          \n",
            "4       You have to go on a journey to defeat an evil                                                          \n",
            "5   Dice usage is great, city-building, engine-bui...                                                          \n",
            "6   Not exactly sure- dice are ok but I prefer car...                                                          \n",
            "7                                            Strategy                                                          \n",
            "8                                           Deception                                                          \n",
            "9                                               cards                                                          \n",
            "10                                  team competition                                                           \n",
            "11                                               dice                                                          \n",
            "12                              Asking questions game                                                          \n",
            "13                                  Humor competition                                                          \n",
            "14                          humor, resource gathering                                                          \n",
            "15                                   logical thinking                                                          \n",
            "16                                         Dice usage                                                          \n",
            "17                                     Resource based                                                          \n",
            "18                       It should be a mystery game.                                                          \n",
            "19                                      building game                                                          \n",
            "20  competition, multiple players, race or try to ...                                                          \n",
            "21                                              Humor                                                          \n",
            "\n",
            "0  🟨 Q3: What mechanisms should be used? How does the game get played? Think of voting, hidden roles or pattern recognition.  \\\n",
            "1                                      Tile placement                                                                          \n",
            "2                                      moving pieces                                                                           \n",
            "3   Turn based, drawing cards, and resource manage...                                                                          \n",
            "4   It could be cool if one party member was evil ...                                                                          \n",
            "5   Voting, pattern recognition, and hidden roles ...                                                                          \n",
            "6   Love hidden roles, also co-op or person vs tea...                                                                          \n",
            "7                                               Co-op                                                                          \n",
            "8                                        Hidden roles                                                                          \n",
            "9                                        hidden roles                                                                          \n",
            "10                                       hidden roles                                                                          \n",
            "11                                               luck                                                                          \n",
            "12        Ask questions and you need to find a quest?                                                                          \n",
            "13                                             Voting                                                                          \n",
            "14                                  voting, role-play                                                                          \n",
            "15                                pattern recognition                                                                          \n",
            "16                                Pattern recognition                                                                          \n",
            "17                                       Hidden roles                                                                          \n",
            "18  It should relay on pattern recognition and som...                                                                          \n",
            "19                                              trade                                                                          \n",
            "20  pattern recognition or racing (whoever is firs...                                                                          \n",
            "21                                Pattern recognition                                                                          \n",
            "\n",
            "0  🟩 Q4: With how many players would you like to play the game?  \\\n",
            "1                                                 4-6             \n",
            "2                                                   2             \n",
            "3                                                 2-5             \n",
            "4                                                 4-6             \n",
            "5                                                 2-4             \n",
            "6                                                 2-5             \n",
            "7                                                   5             \n",
            "8                                                 7-8             \n",
            "9                                                   8             \n",
            "10                                                  3             \n",
            "11                                                2-8             \n",
            "12                                                  3             \n",
            "13                                                  4             \n",
            "14                                                  4             \n",
            "15                                                  2             \n",
            "16                                                  6             \n",
            "17                                                  4             \n",
            "18  I would like a game that’s played by at maximu...             \n",
            "19                                                2-6             \n",
            "20                                                 4+             \n",
            "21                                                  6             \n",
            "\n",
            "0  🟦 Q5: What is the maximum time the game should take?  \\\n",
            "1                                            One hour     \n",
            "2                                              1 hour     \n",
            "3                                             3 hours     \n",
            "4                                         60 minutes      \n",
            "5                                      Around 2 hours     \n",
            "6                                           2-3 hours     \n",
            "7                                             4 hours     \n",
            "8                                      30min - 1 hour     \n",
            "9                                           two hours     \n",
            "10                                            2 hours     \n",
            "11                                            2 hours     \n",
            "12                                              30min     \n",
            "13                                            2 hours     \n",
            "14                                            30 mins     \n",
            "15                                            15 mins     \n",
            "16                                             2 hous     \n",
            "17                                             1 hour     \n",
            "18                      It should take up to one day.     \n",
            "19                                            an hour     \n",
            "20                                                 1h     \n",
            "21                                             1 hour     \n",
            "\n",
            "0  🟥 Q1: What overall theme would you prefer your boardgame to have? In what setting should the game take place? For example, a medieval, civil war, or trains-themed setting?  \\\n",
            "1                                              Trains                                                                                                                            \n",
            "2                                           classical                                                                                                                            \n",
            "3                                            Medieval                                                                                                                            \n",
            "4                                            Medieval                                                                                                                            \n",
            "5                                            Medieval                                                                                                                            \n",
            "6                                              Horror                                                                                                                            \n",
            "7                                               Space                                                                                                                            \n",
            "8                                              Tavern                                                                                                                            \n",
            "9                                             flowers                                                                                                                            \n",
            "10                                             nature                                                                                                                            \n",
            "11                                            Fantasy                                                                                                                            \n",
            "12                                            Fantasy                                                                                                                            \n",
            "13                                         Futuristic                                                                                                                            \n",
            "14                                            forrest                                                                                                                            \n",
            "15                                               none                                                                                                                            \n",
            "16                                            Fantasy                                                                                                                            \n",
            "17                                            Fantasy                                                                                                                            \n",
            "18                                           Monarchy                                                                                                                            \n",
            "19                                               City                                                                                                                            \n",
            "20                                            cartoon                                                                                                                            \n",
            "21                                              space                                                                                                                            \n",
            "\n",
            "0  🟧 Q2: What type of game should it be? Like for example, a city building, humor, or dice-usage based game?  \\\n",
            "1                                                Dice                                                          \n",
            "2                                            strategy                                                          \n",
            "3                                                Dice                                                          \n",
            "4                                             Journey                                                          \n",
            "5                                                Dice                                                          \n",
            "6                                               Cards                                                          \n",
            "7                                            Strategy                                                          \n",
            "8                                           Deception                                                          \n",
            "9                                               cards                                                          \n",
            "10                                               team                                                          \n",
            "11                                               Dice                                                          \n",
            "12                                              Humor                                                          \n",
            "13                                              Humor                                                          \n",
            "14                                              humor                                                          \n",
            "15                                               none                                                          \n",
            "16                                               Dice                                                          \n",
            "17                                          Resources                                                          \n",
            "18                                           Mystery                                                           \n",
            "19                                           Building                                                          \n",
            "20                                        competition                                                          \n",
            "21                                              humor                                                          \n",
            "\n",
            "0  🟨 Q3: What mechanisms should be used? How does the game get played? Think of voting, hidden roles or pattern recognition.  \\\n",
            "1                                               Tiles                                                                          \n",
            "2                                              pieces                                                                          \n",
            "3                                               Cards                                                                          \n",
            "4                                                Dice                                                                          \n",
            "5                                         Point-based                                                                          \n",
            "6                                               Teams                                                                          \n",
            "7                                               Co-op                                                                          \n",
            "8                                           Deception                                                                          \n",
            "9                                              voting                                                                          \n",
            "10                                              roles                                                                          \n",
            "11                                               Luck                                                                          \n",
            "12                                          Questions                                                                          \n",
            "13                                             Voting                                                                          \n",
            "14                                          resources                                                                          \n",
            "15                                            pattern                                                                          \n",
            "16                                            Pattern                                                                          \n",
            "17                                           Patterns                                                                          \n",
            "18                                           Patterns                                                                          \n",
            "19                                              Trade                                                                          \n",
            "20                                             winner                                                                          \n",
            "21                                             voting                                                                          \n",
            "\n",
            "0  🟩 Q4: What is the minimum number of players you would prefer?  \\\n",
            "1                                                   2              \n",
            "2                                                   2              \n",
            "3                                                   2              \n",
            "4                                                   4              \n",
            "5                                                   2              \n",
            "6                                                   2              \n",
            "7                                                   3              \n",
            "8                                                   6              \n",
            "9                                                   2              \n",
            "10                                                  2              \n",
            "11                                                  2              \n",
            "12                                                  3              \n",
            "13                                                  3              \n",
            "14                                                  3              \n",
            "15                                                  2              \n",
            "16                                                  4              \n",
            "17                                                  2              \n",
            "18                                                  2              \n",
            "19                                                  2              \n",
            "20                                                  3              \n",
            "21                                                  6              \n",
            "\n",
            "0  🟦 Q5: What is the maximum number of players you would prefer?  \\\n",
            "1                                                   6              \n",
            "2                                                   2              \n",
            "3                                                   5              \n",
            "4                                                   6              \n",
            "5                                                   4              \n",
            "6                                                   6              \n",
            "7                                                   5              \n",
            "8                                                   8              \n",
            "9                                                  20              \n",
            "10                                                  4              \n",
            "11                                                  8              \n",
            "12                                                  5              \n",
            "13                                                  8              \n",
            "14                                                  5              \n",
            "15                                                  2              \n",
            "16                                                  6              \n",
            "17                                                  4              \n",
            "18                                                  4              \n",
            "19                                                  6              \n",
            "20                                                 10              \n",
            "21                                                  1              \n",
            "\n",
            "0  🟪 Q6: What is the minimum amount of time you would like to spend playing a board game? (in minutes)  \\\n",
            "1                                                  15                                                    \n",
            "2                                                  30                                                    \n",
            "3                                                  60                                                    \n",
            "4                                                  30                                                    \n",
            "5                                                  30                                                    \n",
            "6                                                  20                                                    \n",
            "7                                                   2                                                    \n",
            "8                                                  30                                                    \n",
            "9                                                  10                                                    \n",
            "10                                                 30                                                    \n",
            "11                                                 45                                                    \n",
            "12                                                 20                                                    \n",
            "13                                                 30                                                    \n",
            "14                                                 20                                                    \n",
            "15                                                 15                                                    \n",
            "16                                                 60                                                    \n",
            "17                                                 45                                                    \n",
            "18                                                 30                                                    \n",
            "19                                                 30                                                    \n",
            "20                                                 20                                                    \n",
            "21                                                 30                                                    \n",
            "\n",
            "0  🟫 Q7: What is the maximum amount of time you would like to spend playing a board game? (in minutes)  \n",
            "1                                                  60                                                   \n",
            "2                                                 120                                                   \n",
            "3                                                 180                                                   \n",
            "4                                                  60                                                   \n",
            "5                                                 120                                                   \n",
            "6                                                 150                                                   \n",
            "7                                                   4                                                   \n",
            "8                                                  60                                                   \n",
            "9                                                 120                                                   \n",
            "10                                                120                                                   \n",
            "11                                                120                                                   \n",
            "12                                                 30                                                   \n",
            "13                                                120                                                   \n",
            "14                                                 30                                                   \n",
            "15                                                 15                                                   \n",
            "16                                                150                                                   \n",
            "17                                                 90                                                   \n",
            "18                                                460                                                   \n",
            "19                                                 90                                                   \n",
            "20                                                 90                                                   \n",
            "21                                                 75                                                   >\n"
          ]
        }
      ]
    },
    {
      "cell_type": "markdown",
      "source": [
        "# Processing User Inputs"
      ],
      "metadata": {
        "id": "U9zplv7mU8cM"
      }
    },
    {
      "cell_type": "code",
      "source": [
        "df.columns = [\"timestamp\",\n",
        "              \"email\",\n",
        "              \"q1_sent\",\n",
        "              \"q2_sent\",\n",
        "              \"q3_sent\",\n",
        "              \"q4_sent\",\n",
        "              \"q5_sent\",\n",
        "              \"q1_word\",\n",
        "              \"q2_word\",\n",
        "              \"q3_word\",\n",
        "              \"q4_minplay\",\n",
        "              \"q4_maxplay\",\n",
        "              \"q5_mintime\",\n",
        "              \"q5_maxtime\"]"
      ],
      "metadata": {
        "id": "La50IdiaVCo4"
      },
      "execution_count": 110,
      "outputs": []
    },
    {
      "cell_type": "code",
      "source": [
        "lst = []\n",
        "\n",
        "for column in df.columns:\n",
        "  temp_lst = df[column].tolist()\n",
        "  lst.append(temp_lst)\n",
        "\n",
        "print(lst)"
      ],
      "metadata": {
        "colab": {
          "base_uri": "https://localhost:8080/"
        },
        "id": "n6RxFwqtZzTN",
        "outputId": "aa01b402-2147-452b-a91f-190d2cd547e7"
      },
      "execution_count": 111,
      "outputs": [
        {
          "output_type": "stream",
          "name": "stdout",
          "text": [
            "[['5/26/2023 17:17:52', '5/26/2023 18:02:07', '5/27/2023 0:14:40', '5/27/2023 0:16:09', '5/27/2023 0:31:35', '5/27/2023 0:40:24', '5/27/2023 1:37:12', '5/27/2023 5:52:15', '5/28/2023 12:50:15', '5/28/2023 12:52:39', '5/28/2023 12:56:27', '5/28/2023 12:59:28', '5/28/2023 13:00:56', '5/28/2023 13:11:55', '5/28/2023 13:15:07', '5/28/2023 13:27:37', '5/28/2023 13:46:26', '5/28/2023 14:11:54', '5/28/2023 15:23:18', '5/28/2023 15:53:07', '5/28/2023 18:02:07'], ['schat160@umm.edu', 'joshdfrench@outlook.com', 'patrickdysart2@gmail.com', 'booth250@umn.edu', 'gerardtheplant@gmail.com', 'pusch030@umn.edu', 'smgiinthir@gmail.com', 'silve490@umn.edu', 'bejczyvera@gmail.com', '06-squad.protein@icloud.com', 'emma.beukers@hotmail.com', 'mathildepaquet19@gmail.com', 'clopro15@gmail.com', 'kjsdenotter@gmail.com', 'gayatri.srikant18@gmail.com', 'MateoAbrahami@outlook.com', 'sebastian@backtalk.com', 'laurehajislam7@gmail.com', 'paulavermaas@gmail.com', 'leihabinger@gmail.com', 'cvillar1@fordham.edu'], ['Trains', 'classical', 'Fantasy or Sci-Fi', 'Fantasy and or medieval ', 'Fantasy settings like castles/medieval vibes, and nature games about animals or plants', 'I would say I primarily prefer spooky, horror-themed, etc.', 'Space', 'Speak easy', 'cities, art, flowers', 'nature', 'Fantasy', 'Fantasy world', 'Futuristic', 'forest, nature', 'no physical setting ', 'Fantasy land', 'Fantasy world', 'It should be monarchy themed.', 'A wordly or city setting', 'modern theme/cartoon', 'Outer space'], ['Dice, strategy', 'strategy', 'Strategy with dice-usage', 'You have to go on a journey to defeat an evil', 'Dice usage is great, city-building, engine-building, fast paced is good too', 'Not exactly sure- dice are ok but I prefer cards, maybe adventure type thing?', 'Strategy', 'Deception', 'cards', 'team competition ', 'dice', 'Asking questions game', 'Humor competition', 'humor, resource gathering', 'logical thinking', 'Dice usage', 'Resource based', 'It should be a mystery game.', 'building game', 'competition, multiple players, race or try to guess something right', 'Humor'], ['Tile placement', 'moving pieces ', 'Turn based, drawing cards, and resource management', 'It could be cool if one party member was evil and the rest had to take them down, it should be turned based, no voting ', 'Voting, pattern recognition, and hidden roles are all good. Turn based card games, point systems are nice.', 'Love hidden roles, also co-op or person vs team style.', 'Co-op', 'Hidden roles', 'hidden roles', 'hidden roles', 'luck', 'Ask questions and you need to find a quest?', 'Voting', 'voting, role-play', 'pattern recognition', 'Pattern recognition', 'Hidden roles', 'It should relay on pattern recognition and some luck.', 'trade', 'pattern recognition or racing (whoever is first wins)', 'Pattern recognition'], ['4-6', '2', '2-5', '4-6', '2-4', '2-5', '5', '7-8', '8', '3', '2-8', '3', '4', '4', '2', '6', '4', 'I would like a game that’s played by at maximum four players and at minimum two.', '2-6', '4+', '6'], ['One hour', '1 hour', '3 hours', '60 minutes ', 'Around 2 hours', '2-3 hours', '4 hours', '30min - 1 hour', 'two hours', '2 hours', '2 hours', '30min', '2 hours', '30 mins', '15 mins', '2 hous', '1 hour', 'It should take up to one day.', 'an hour', '1h', '1 hour'], ['Trains', 'classical', 'Medieval', 'Medieval', 'Medieval', 'Horror', 'Space', 'Tavern', 'flowers', 'nature', 'Fantasy', 'Fantasy', 'Futuristic', 'forrest', 'none', 'Fantasy', 'Fantasy', 'Monarchy', 'City', 'cartoon', 'space'], ['Dice', 'strategy', 'Dice', 'Journey', 'Dice', 'Cards', 'Strategy', 'Deception', 'cards', 'team', 'Dice', 'Humor', 'Humor', 'humor', 'none', 'Dice', 'Resources', 'Mystery ', 'Building', 'competition', 'humor'], ['Tiles', 'pieces', 'Cards', 'Dice', 'Point-based', 'Teams', 'Co-op', 'Deception', 'voting', 'roles', 'Luck', 'Questions', 'Voting', 'resources', 'pattern', 'Pattern', 'Patterns', 'Patterns', 'Trade', 'winner', 'voting'], ['2', '2', '2', '4', '2', '2', '3', '6', '2', '2', '2', '3', '3', '3', '2', '4', '2', '2', '2', '3', '6'], ['6', '2', '5', '6', '4', '6', '5', '8', '20', '4', '8', '5', '8', '5', '2', '6', '4', '4', '6', '10', '1'], ['15', '30', '60', '30', '30', '20', '2', '30', '10', '30', '45', '20', '30', '20', '15', '60', '45', '30', '30', '20', '30'], ['60', '120', '180', '60', '120', '150', '4', '60', '120', '120', '120', '30', '120', '30', '15', '150', '90', '460', '90', '90', '75']]\n"
          ]
        }
      ]
    },
    {
      "cell_type": "code",
      "source": [
        "def create_pairs(keyword_list, user_keyword_list):\n",
        "  temp_lst = []\n",
        "  i = 0\n",
        "  while i < len(keyword_list):\n",
        "    word = extract_keyword(keyword_list[i])\n",
        "    temp_pair = (word, (word_tokenize(user_keyword_list[i].lower())[0]))\n",
        "    temp_lst.append(temp_pair)\n",
        "    i = i + 1\n",
        "\n",
        "  return temp_lst\n",
        "\n",
        "print(create_pairs(lst[2], lst[7]))\n"
      ],
      "metadata": {
        "colab": {
          "base_uri": "https://localhost:8080/"
        },
        "id": "eJZycUrnfvig",
        "outputId": "9aec6d5d-7c67-476b-ebc9-89364844be65"
      },
      "execution_count": 112,
      "outputs": [
        {
          "output_type": "stream",
          "name": "stdout",
          "text": [
            "[('trains', 'trains'), ('classical', 'classical'), ('fantasy', 'medieval'), ('medieval', 'medieval'), ('castles', 'medieval'), ('spooky', 'horror'), ('space', 'space'), ('speak', 'tavern'), ('flowers', 'flowers'), ('nature', 'nature'), ('fantasy', 'fantasy'), ('fantasy', 'fantasy'), ('futuristic', 'futuristic'), ('forest', 'forrest'), ('setting', 'none'), ('land', 'fantasy'), ('fantasy', 'fantasy'), ('monarchy', 'monarchy'), ('city', 'city'), ('cartoon', 'cartoon'), ('space', 'space')]\n"
          ]
        }
      ]
    },
    {
      "cell_type": "code",
      "source": [
        "def min_max_pairs(finder_list, min_list, max_list):\n",
        "  return true\n"
      ],
      "metadata": {
        "id": "j5hwVqSvao0a"
      },
      "execution_count": 113,
      "outputs": []
    },
    {
      "cell_type": "code",
      "source": [
        "def compare(feature_list, pair_list, dataform_list):\n",
        "  lst = []\n",
        "  for pair in pair_list:\n",
        "    temp = []\n",
        "    for item in pair:\n",
        "      word = user_to_features(feature_list, item, dataform_list)\n",
        "      temp.append(word[0])\n",
        "    lst.append(temp)\n",
        "\n",
        "  return lst\n",
        "    "
      ],
      "metadata": {
        "id": "yKhw-UvTjxBn"
      },
      "execution_count": 118,
      "outputs": []
    },
    {
      "cell_type": "code",
      "source": [
        "def simple_sim(pair_list):\n",
        "  sim_list = []\n",
        "  for pair in pair_list:\n",
        "    sim = wv.similarity(pair[0], pair[1])\n",
        "    sim_list.append(sim)\n",
        "  \n",
        "  return sim_list"
      ],
      "metadata": {
        "id": "iZkF8o14bDJl"
      },
      "execution_count": 115,
      "outputs": []
    },
    {
      "cell_type": "code",
      "source": [
        "pairs = create_pairs(lst[2], lst[7])\n",
        "\n",
        "compare(clean_cat, pairs, cat_list_lower)"
      ],
      "metadata": {
        "colab": {
          "base_uri": "https://localhost:8080/"
        },
        "id": "6JQ5-70KW-zO",
        "outputId": "9d9f8a6a-5b43-471c-b81e-0f6409745a5b"
      },
      "execution_count": 116,
      "outputs": [
        {
          "output_type": "stream",
          "name": "stdout",
          "text": [
            "[['trains', 'trains'], ['music', 'music'], ['fantasy', 'medieval'], ['medieval', 'medieval'], ['medieval', 'medieval'], ['horror', 'horror'], ['space exploration', 'space exploration'], ['word game', 'family games'], ['animals', 'animals'], ['animals', 'animals'], ['fantasy', 'fantasy'], ['fantasy', 'fantasy'], ['fantasy', 'fantasy'], ['farming', 'fantasy'], ['city building', 'number'], ['territory building', 'fantasy'], ['fantasy', 'fantasy'], ['napoleonic', 'napoleonic'], ['city building', 'city building'], ['horror', 'horror'], ['space exploration', 'space exploration']]\n"
          ]
        }
      ]
    },
    {
      "cell_type": "code",
      "source": [
        "def if_same(pair_list):\n",
        "  same_list = []\n",
        "  for pair in pair_list:\n",
        "    if pair[0] == pair[1]:\n",
        "      same_list.append(1)\n",
        "    else: \n",
        "      same_list.append(0)\n",
        "  return same_list"
      ],
      "metadata": {
        "id": "0oSxO9vWfVyV"
      },
      "execution_count": 123,
      "outputs": []
    },
    {
      "cell_type": "code",
      "source": [
        "#Category 1\n",
        "cat1_pairs = create_pairs(lst[2], lst[7])\n",
        "keyword_sim_cat1 = simple_sim(cat1_pairs)\n",
        "feature_cat1 = compare(clean_cat, cat1_pairs, cat_list_lower)\n",
        "feature_same_cat1 = if_same(feature_cat1)\n",
        "\n",
        "print(keyword_sim_cat1)\n",
        "print(feature_cat1)\n",
        "print(feature_same_cat1)\n",
        "\n",
        "#Category 2\n",
        "cat2_pairs = create_pairs(lst[3], lst[8])\n",
        "keyword_sim_cat2 = simple_sim(cat2_pairs)\n",
        "feature_cat2 = compare(clean_cat, cat2_pairs, cat_list_lower)\n",
        "feature_same_cat2 = if_same(feature_cat2)\n",
        "\n",
        "#Mechanism\n",
        "mech_pairs = create_pairs(lst[4], lst[9])\n",
        "keyword_sim_mech = simple_sim(mech_pairs)\n",
        "feature_mech = compare(clean_cat, mech_pairs, mech_list_lower)\n",
        "feature_same_mech = if_same(feature_mech)\n",
        "\n"
      ],
      "metadata": {
        "colab": {
          "base_uri": "https://localhost:8080/"
        },
        "id": "kegZmBM-aLCy",
        "outputId": "7012945c-d5c3-48e5-ad93-8899784673f4"
      },
      "execution_count": 126,
      "outputs": [
        {
          "output_type": "stream",
          "name": "stdout",
          "text": [
            "[1.0000001, 1.0, 0.37800744, 1.0, 0.6006654, 0.4482521, 1.0, 0.05259891, 1.0, 0.99999994, 1.0, 1.0, 1.0000001, 0.23127082, 0.4083722, 0.27068377, 1.0, 1.0, 1.0, 1.0, 1.0]\n",
            "[['trains', 'trains'], ['music', 'music'], ['fantasy', 'medieval'], ['medieval', 'medieval'], ['medieval', 'medieval'], ['horror', 'horror'], ['space exploration', 'space exploration'], ['word game', 'family games'], ['animals', 'animals'], ['animals', 'animals'], ['fantasy', 'fantasy'], ['fantasy', 'fantasy'], ['fantasy', 'fantasy'], ['farming', 'fantasy'], ['city building', 'number'], ['territory building', 'fantasy'], ['fantasy', 'fantasy'], ['napoleonic', 'napoleonic'], ['city building', 'city building'], ['horror', 'horror'], ['space exploration', 'space exploration']]\n",
            "[1, 1, 0, 1, 1, 1, 1, 0, 1, 1, 1, 1, 1, 0, 0, 0, 1, 1, 1, 1, 1]\n"
          ]
        }
      ]
    },
    {
      "cell_type": "code",
      "source": [
        "#Adding to the dataframe\n",
        "\n",
        "#Category 1\n",
        "df[\"Category 1 Similarity\"] = keyword_sim_cat1\n",
        "df[\"correct cat1\"] = feature_same_cat1\n",
        "\n",
        "#Category 2\n",
        "df[\"Category 2 Similarity\"] = keyword_sim_cat2\n",
        "df[\"correct cat2\"] = feature_same_cat2\n",
        "\n",
        "#Mechanism\n",
        "df[\"Mechanism Similarity\"] = keyword_sim_mech\n",
        "df[\"correct mech\"] = feature_same_mech\n",
        "\n",
        "print(df)"
      ],
      "metadata": {
        "colab": {
          "base_uri": "https://localhost:8080/"
        },
        "id": "GtlfPoFHgLBF",
        "outputId": "265bbd46-4d34-411e-f247-2314598f9aa4"
      },
      "execution_count": 140,
      "outputs": [
        {
          "output_type": "stream",
          "name": "stdout",
          "text": [
            "             timestamp                        email  \\\n",
            "1   5/26/2023 17:17:52             schat160@umm.edu   \n",
            "2   5/26/2023 18:02:07      joshdfrench@outlook.com   \n",
            "3    5/27/2023 0:14:40     patrickdysart2@gmail.com   \n",
            "4    5/27/2023 0:16:09             booth250@umn.edu   \n",
            "5    5/27/2023 0:31:35     gerardtheplant@gmail.com   \n",
            "6    5/27/2023 0:40:24             pusch030@umn.edu   \n",
            "7    5/27/2023 1:37:12         smgiinthir@gmail.com   \n",
            "8    5/27/2023 5:52:15             silve490@umn.edu   \n",
            "9   5/28/2023 12:50:15         bejczyvera@gmail.com   \n",
            "10  5/28/2023 12:52:39  06-squad.protein@icloud.com   \n",
            "11  5/28/2023 12:56:27     emma.beukers@hotmail.com   \n",
            "12  5/28/2023 12:59:28   mathildepaquet19@gmail.com   \n",
            "13  5/28/2023 13:00:56           clopro15@gmail.com   \n",
            "14  5/28/2023 13:11:55        kjsdenotter@gmail.com   \n",
            "15  5/28/2023 13:15:07  gayatri.srikant18@gmail.com   \n",
            "16  5/28/2023 13:27:37    MateoAbrahami@outlook.com   \n",
            "17  5/28/2023 13:46:26       sebastian@backtalk.com   \n",
            "18  5/28/2023 14:11:54     laurehajislam7@gmail.com   \n",
            "19  5/28/2023 15:23:18       paulavermaas@gmail.com   \n",
            "20  5/28/2023 15:53:07        leihabinger@gmail.com   \n",
            "21  5/28/2023 18:02:07         cvillar1@fordham.edu   \n",
            "\n",
            "                                              q1_sent  \\\n",
            "1                                              Trains   \n",
            "2                                           classical   \n",
            "3                                   Fantasy or Sci-Fi   \n",
            "4                            Fantasy and or medieval    \n",
            "5   Fantasy settings like castles/medieval vibes, ...   \n",
            "6   I would say I primarily prefer spooky, horror-...   \n",
            "7                                               Space   \n",
            "8                                          Speak easy   \n",
            "9                                cities, art, flowers   \n",
            "10                                             nature   \n",
            "11                                            Fantasy   \n",
            "12                                      Fantasy world   \n",
            "13                                         Futuristic   \n",
            "14                                     forest, nature   \n",
            "15                               no physical setting    \n",
            "16                                       Fantasy land   \n",
            "17                                      Fantasy world   \n",
            "18                      It should be monarchy themed.   \n",
            "19                           A wordly or city setting   \n",
            "20                               modern theme/cartoon   \n",
            "21                                        Outer space   \n",
            "\n",
            "                                              q2_sent  \\\n",
            "1                                      Dice, strategy   \n",
            "2                                            strategy   \n",
            "3                            Strategy with dice-usage   \n",
            "4       You have to go on a journey to defeat an evil   \n",
            "5   Dice usage is great, city-building, engine-bui...   \n",
            "6   Not exactly sure- dice are ok but I prefer car...   \n",
            "7                                            Strategy   \n",
            "8                                           Deception   \n",
            "9                                               cards   \n",
            "10                                  team competition    \n",
            "11                                               dice   \n",
            "12                              Asking questions game   \n",
            "13                                  Humor competition   \n",
            "14                          humor, resource gathering   \n",
            "15                                   logical thinking   \n",
            "16                                         Dice usage   \n",
            "17                                     Resource based   \n",
            "18                       It should be a mystery game.   \n",
            "19                                      building game   \n",
            "20  competition, multiple players, race or try to ...   \n",
            "21                                              Humor   \n",
            "\n",
            "                                              q3_sent  \\\n",
            "1                                      Tile placement   \n",
            "2                                      moving pieces    \n",
            "3   Turn based, drawing cards, and resource manage...   \n",
            "4   It could be cool if one party member was evil ...   \n",
            "5   Voting, pattern recognition, and hidden roles ...   \n",
            "6   Love hidden roles, also co-op or person vs tea...   \n",
            "7                                               Co-op   \n",
            "8                                        Hidden roles   \n",
            "9                                        hidden roles   \n",
            "10                                       hidden roles   \n",
            "11                                               luck   \n",
            "12        Ask questions and you need to find a quest?   \n",
            "13                                             Voting   \n",
            "14                                  voting, role-play   \n",
            "15                                pattern recognition   \n",
            "16                                Pattern recognition   \n",
            "17                                       Hidden roles   \n",
            "18  It should relay on pattern recognition and som...   \n",
            "19                                              trade   \n",
            "20  pattern recognition or racing (whoever is firs...   \n",
            "21                                Pattern recognition   \n",
            "\n",
            "                                              q4_sent  \\\n",
            "1                                                 4-6   \n",
            "2                                                   2   \n",
            "3                                                 2-5   \n",
            "4                                                 4-6   \n",
            "5                                                 2-4   \n",
            "6                                                 2-5   \n",
            "7                                                   5   \n",
            "8                                                 7-8   \n",
            "9                                                   8   \n",
            "10                                                  3   \n",
            "11                                                2-8   \n",
            "12                                                  3   \n",
            "13                                                  4   \n",
            "14                                                  4   \n",
            "15                                                  2   \n",
            "16                                                  6   \n",
            "17                                                  4   \n",
            "18  I would like a game that’s played by at maximu...   \n",
            "19                                                2-6   \n",
            "20                                                 4+   \n",
            "21                                                  6   \n",
            "\n",
            "                          q5_sent     q1_word      q2_word      q3_word  ...  \\\n",
            "1                        One hour      Trains         Dice        Tiles  ...   \n",
            "2                          1 hour   classical     strategy       pieces  ...   \n",
            "3                         3 hours    Medieval         Dice        Cards  ...   \n",
            "4                     60 minutes     Medieval      Journey         Dice  ...   \n",
            "5                  Around 2 hours    Medieval         Dice  Point-based  ...   \n",
            "6                       2-3 hours      Horror        Cards        Teams  ...   \n",
            "7                         4 hours       Space     Strategy        Co-op  ...   \n",
            "8                  30min - 1 hour      Tavern    Deception    Deception  ...   \n",
            "9                       two hours     flowers        cards       voting  ...   \n",
            "10                        2 hours      nature         team        roles  ...   \n",
            "11                        2 hours     Fantasy         Dice         Luck  ...   \n",
            "12                          30min     Fantasy        Humor    Questions  ...   \n",
            "13                        2 hours  Futuristic        Humor       Voting  ...   \n",
            "14                        30 mins     forrest        humor    resources  ...   \n",
            "15                        15 mins        none         none      pattern  ...   \n",
            "16                         2 hous     Fantasy         Dice      Pattern  ...   \n",
            "17                         1 hour     Fantasy    Resources     Patterns  ...   \n",
            "18  It should take up to one day.    Monarchy     Mystery      Patterns  ...   \n",
            "19                        an hour        City     Building        Trade  ...   \n",
            "20                             1h     cartoon  competition       winner  ...   \n",
            "21                         1 hour       space        humor       voting  ...   \n",
            "\n",
            "   q5_maxtime feature sim cat1 correct cat1 feature sim cat2  correct cat2  \\\n",
            "1          60         1.000000            1         1.000000             1   \n",
            "2         120         1.000000            1         1.000000             1   \n",
            "3         180         0.378007            0         1.000000             1   \n",
            "4          60         1.000000            1         0.308013             0   \n",
            "5         120         0.600665            1         1.000000             1   \n",
            "6         150         0.448252            1         0.285922             0   \n",
            "7           4         1.000000            1         1.000000             1   \n",
            "8          60         0.052599            0         1.000000             1   \n",
            "9         120         1.000000            1         1.000000             1   \n",
            "10        120         1.000000            1         0.592652             0   \n",
            "11        120         1.000000            1         1.000000             1   \n",
            "12         30         1.000000            1         0.385148             0   \n",
            "13        120         1.000000            1         1.000000             1   \n",
            "14         30         0.231271            0         1.000000             1   \n",
            "15         15         0.408372            0         0.301897             0   \n",
            "16        150         0.270684            0         1.000000             1   \n",
            "17         90         1.000000            1         0.810634             1   \n",
            "18        460         1.000000            1         1.000000             1   \n",
            "19         90         1.000000            1         1.000000             1   \n",
            "20         90         1.000000            1         1.000000             1   \n",
            "21         75         1.000000            1         1.000000             1   \n",
            "\n",
            "    feature sim mech  correct mech  Category 1 Similarity  \\\n",
            "1           0.869266             0               1.000000   \n",
            "2           0.420411             0               1.000000   \n",
            "3           0.443533             0               0.378007   \n",
            "4           0.126458             0               1.000000   \n",
            "5          -0.094460             0               0.600665   \n",
            "6           0.348949             0               0.448252   \n",
            "7           0.038540             0               1.000000   \n",
            "8           0.079683             0               0.052599   \n",
            "9           0.253067             0               1.000000   \n",
            "10          1.000000             1               1.000000   \n",
            "11          1.000000             1               1.000000   \n",
            "12          0.287783             0               1.000000   \n",
            "13          1.000000             1               1.000000   \n",
            "14          0.241965             0               0.231271   \n",
            "15          0.330893             0               0.408372   \n",
            "16          0.330893             0               0.270684   \n",
            "17          0.286759             0               1.000000   \n",
            "18          0.256106             0               1.000000   \n",
            "19          1.000000             1               1.000000   \n",
            "20          0.468918             1               1.000000   \n",
            "21          0.430218             0               1.000000   \n",
            "\n",
            "    Category 2 Similarity  Mechanism Similarity  \n",
            "1                1.000000              0.869266  \n",
            "2                1.000000              0.420411  \n",
            "3                1.000000              0.443533  \n",
            "4                0.308013              0.126458  \n",
            "5                1.000000             -0.094460  \n",
            "6                0.285922              0.348949  \n",
            "7                1.000000              0.038540  \n",
            "8                1.000000              0.079683  \n",
            "9                1.000000              0.253067  \n",
            "10               0.592652              1.000000  \n",
            "11               1.000000              1.000000  \n",
            "12               0.385148              0.287783  \n",
            "13               1.000000              1.000000  \n",
            "14               1.000000              0.241965  \n",
            "15               0.301897              0.330893  \n",
            "16               1.000000              0.330893  \n",
            "17               0.810634              0.286759  \n",
            "18               1.000000              0.256106  \n",
            "19               1.000000              1.000000  \n",
            "20               1.000000              0.468918  \n",
            "21               1.000000              0.430218  \n",
            "\n",
            "[21 rows x 23 columns]\n"
          ]
        }
      ]
    },
    {
      "cell_type": "markdown",
      "source": [
        "# Data Processing"
      ],
      "metadata": {
        "id": "Js80BMkhiAZw"
      }
    },
    {
      "cell_type": "code",
      "source": [
        "import matplotlib.pyplot as plt\n",
        "\n",
        "b_plot = df.boxplot(column = [\"Category 1 Similarity\", \"Category 2 Similarity\", \n",
        "                              \"Mechanism Similarity\"], \n",
        "                    showmeans = True)\n",
        "\n",
        "b_plot.set_title(\"Cosine Similarity between User's Keyword and Found Keyword\")\n",
        "\n",
        "b_plot.set_ylabel(\"Cosine Similarity\")\n",
        "\n",
        "b_plot.plot()\n",
        "\n"
      ],
      "metadata": {
        "colab": {
          "base_uri": "https://localhost:8080/",
          "height": 470
        },
        "id": "arXuv8aliG5E",
        "outputId": "62babd32-0e33-4493-a91f-35fbe7aeed18"
      },
      "execution_count": 158,
      "outputs": [
        {
          "output_type": "execute_result",
          "data": {
            "text/plain": [
              "[]"
            ]
          },
          "metadata": {},
          "execution_count": 158
        },
        {
          "output_type": "display_data",
          "data": {
            "text/plain": [
              "<Figure size 640x480 with 1 Axes>"
            ],
            "image/png": "[encoded data removed]"
          },
          "metadata": {}
        }
      ]
    },
    {
      "cell_type": "code",
      "source": [
        "def find_accuracy(same_list):\n",
        "  sum = 0\n",
        "  for item in same_list:\n",
        "    sum = sum + item\n",
        "  sum = sum / len(same_list)\n",
        "\n",
        "  return sum"
      ],
      "metadata": {
        "id": "Da9LOaahk8S5"
      },
      "execution_count": 131,
      "outputs": []
    },
    {
      "cell_type": "code",
      "source": [
        "print(find_accuracy(feature_same_cat1))\n",
        "\n",
        "print(find_accuracy(feature_same_cat2))\n",
        "\n",
        "print(find_accuracy(feature_same_mech))\n"
      ],
      "metadata": {
        "colab": {
          "base_uri": "https://localhost:8080/"
        },
        "id": "LMOSn8ULowm8",
        "outputId": "666ec612-814c-4dbb-ab2e-e163be790ac4"
      },
      "execution_count": 135,
      "outputs": [
        {
          "output_type": "stream",
          "name": "stdout",
          "text": [
            "0.7619047619047619\n",
            "0.7619047619047619\n",
            "0.23809523809523808\n"
          ]
        }
      ]
    }
  ]
}
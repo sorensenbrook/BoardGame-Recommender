{
 "cells": [
  {
   "cell_type": "code",
   "execution_count": 67,
   "id": "42091d99",
   "metadata": {},
   "outputs": [],
   "source": [
    "import pandas as pd\n",
    "import random"
   ]
  },
  {
   "cell_type": "code",
   "execution_count": 68,
   "id": "bd2690e5",
   "metadata": {},
   "outputs": [],
   "source": [
    "data = pd.read_csv('/Users/jasonmatiatos/Desktop/final_data.csv')"
   ]
  },
  {
   "cell_type": "markdown",
   "id": "545cbc4b",
   "metadata": {},
   "source": [
    "## Aim\n",
    "\n",
    "The aim of this file is to create a function user_to_data() that takes in the user's preferences and a dataframe and then filters through a dataframe, in order to return a subsection containing only those entries that are in line with the user's preferences."
   ]
  },
  {
   "cell_type": "markdown",
   "id": "30cd10f9",
   "metadata": {},
   "source": [
    "#### Step 1: Storing user preferences into a list of strings. \n",
    "\n",
    "At this point of our project, from the answers given by the user on the questionnaire, we have extracted the important words containing the essence of the answer. Then, each word of such has been converted into a vactor using word embeddings, and its closest semantic equivalent from within our own list of categories and mechanisms has been found.\n",
    "\n",
    "The important inputs from the user are the following: \n",
    "\n",
    "1. category/ theme\n",
    "2. game mechanisms\n",
    "3. number of players\n",
    "4. playtime (game duration) in minutes\n",
    "\n",
    "The following code takes a list of strings, each string representing one of the above points of information."
   ]
  },
  {
   "cell_type": "code",
   "execution_count": 69,
   "id": "1ee457cf",
   "metadata": {},
   "outputs": [],
   "source": [
    "# preferences_list = ['category', 'mechanics', 'min_players', 'max_players', 'min_playtime', 'max_playtime']\n",
    "\n",
    "# Arbitrary example for test purposes\n",
    "preferences_list = ['fighting', 'dice rolling', 2.0, 3.0, 0.0, 60.0]"
   ]
  },
  {
   "cell_type": "markdown",
   "id": "e0a8c6c8",
   "metadata": {},
   "source": [
    "#### Step 2: Individual functions\n",
    "\n",
    "Then, I make four individual functions. Each one scans through our dataframe of boardgames and keeps only the subsections that aligns with the user's preference."
   ]
  },
  {
   "cell_type": "code",
   "execution_count": 70,
   "id": "2fc995b0",
   "metadata": {},
   "outputs": [],
   "source": [
    "# 1: Category\n",
    "\n",
    "def category(user, df):\n",
    "    user_cat = user[0] # extract relevant string\n",
    "    sub_df = df[df[user_cat]==True] # take subsection of df\n",
    "    return sub_df\n",
    "\n",
    "\n",
    "# 2: Mechanisms\n",
    "\n",
    "def mechanisms(user, df):\n",
    "    user_mec = user[1]\n",
    "    sub_df = df[df[user_mec]==True]\n",
    "    return sub_df"
   ]
  },
  {
   "cell_type": "markdown",
   "id": "b044fbaf",
   "metadata": {},
   "source": [
    "##### note:\n",
    "\n",
    "For the appropriate number of players, it should be the case that the number range specified by the boardgame is (partly) within the range specified by the player.\n",
    "\n",
    "To compare ranges in my data frame, I used the .query method as shown here: https://stackoverflow.com/questions/16341367/grabbing-selection-between-specific-dates-in-a-dataframe. \n",
    "\n",
    "This answer must come from old pandas documentation, so I read the documentation here https://pandas.pydata.org/pandas-docs/stable/reference/api/pandas.DataFrame.query.html to see that variable names must have the '@' symbol in front."
   ]
  },
  {
   "cell_type": "code",
   "execution_count": 71,
   "id": "93e89cca",
   "metadata": {},
   "outputs": [],
   "source": [
    "# 3: Number of players\n",
    "\n",
    "def numplayers(user, df):\n",
    "    \n",
    "    # extract user's interval\n",
    "    min_num = user[2]\n",
    "    max_num = user[3]\n",
    "    \n",
    "    # take subsection of df\n",
    "    sub_df = df.query(\"@min_num <= minplayers <= @max_num\" or \n",
    "                      \"@min_num <= maxplayers <= @max_num\")\n",
    "    return sub_df\n",
    "\n",
    "\n",
    "# 4: Playtime\n",
    "\n",
    "def playtime(user, df):\n",
    "    \n",
    "    min_time = user[4]\n",
    "    max_time = user[5] \n",
    "    \n",
    "    sub_df = df.query(\"@min_time <= playingtime <= @max_time\")\n",
    "    return sub_df"
   ]
  },
  {
   "cell_type": "markdown",
   "id": "09856249",
   "metadata": {},
   "source": [
    "##### note 2:\n",
    "\n",
    "Although I ommitted it from this file, I have tested that all 4 functions work well individually. So now we can combine all into one master function."
   ]
  },
  {
   "cell_type": "markdown",
   "id": "977a0ab5",
   "metadata": {},
   "source": [
    "# Master function"
   ]
  },
  {
   "cell_type": "code",
   "execution_count": 72,
   "id": "52ce91ba",
   "metadata": {},
   "outputs": [],
   "source": [
    "def user_to_data(user, df):\n",
    "    '''\n",
    "    Takes in a list of user preferences over boardgame specifications and a dataframe of \n",
    "    boardgames. Returns a subsection of the initial dataframe, containing only the boardgames\n",
    "    in line with the user\\'s preferences.\n",
    "    '''\n",
    "    \n",
    "    subdf_1 = category(user, df)\n",
    "    subdf_2 = mechanisms(user, subdf_1)\n",
    "    subdf_3 = numplayers(user, subdf_2)\n",
    "    final_subdf = playtime(user, subdf_3)\n",
    "    \n",
    "    return final_subdf"
   ]
  },
  {
   "cell_type": "markdown",
   "id": "d7f9b16c",
   "metadata": {},
   "source": [
    "# TEST\n",
    "_hint: it works_"
   ]
  },
  {
   "cell_type": "code",
   "execution_count": 143,
   "id": "c7acf042",
   "metadata": {
    "scrolled": true
   },
   "outputs": [
    {
     "data": {
      "text/html": [
       "<div>\n",
       "<style scoped>\n",
       "    .dataframe tbody tr th:only-of-type {\n",
       "        vertical-align: middle;\n",
       "    }\n",
       "\n",
       "    .dataframe tbody tr th {\n",
       "        vertical-align: top;\n",
       "    }\n",
       "\n",
       "    .dataframe thead th {\n",
       "        text-align: right;\n",
       "    }\n",
       "</style>\n",
       "<table border=\"1\" class=\"dataframe\">\n",
       "  <thead>\n",
       "    <tr style=\"text-align: right;\">\n",
       "      <th></th>\n",
       "      <th>Unnamed: 0</th>\n",
       "      <th>name</th>\n",
       "      <th>description</th>\n",
       "      <th>image</th>\n",
       "      <th>rating</th>\n",
       "      <th>usersrated</th>\n",
       "      <th>minplayers</th>\n",
       "      <th>maxplayers</th>\n",
       "      <th>playingtime</th>\n",
       "      <th>alliances</th>\n",
       "      <th>...</th>\n",
       "      <th>korean war</th>\n",
       "      <th>fan expansion</th>\n",
       "      <th>strategy games</th>\n",
       "      <th>abstract games</th>\n",
       "      <th>family games</th>\n",
       "      <th>thematic games</th>\n",
       "      <th>customizable games</th>\n",
       "      <th>wargames</th>\n",
       "      <th>party games</th>\n",
       "      <th>children's games</th>\n",
       "    </tr>\n",
       "  </thead>\n",
       "  <tbody>\n",
       "    <tr>\n",
       "      <th>0</th>\n",
       "      <td>25</td>\n",
       "      <td>Armies of Oblivion: ASL Module 12</td>\n",
       "      <td>Armies of Oblivion is the long-awaited module ...</td>\n",
       "      <td>https://cf.geekdo-images.com/original/img/-aP6...</td>\n",
       "      <td>8.43063</td>\n",
       "      <td>271</td>\n",
       "      <td>2.0</td>\n",
       "      <td>2.0</td>\n",
       "      <td>0.0</td>\n",
       "      <td>0.0</td>\n",
       "      <td>...</td>\n",
       "      <td>0.0</td>\n",
       "      <td>0.0</td>\n",
       "      <td>1.0</td>\n",
       "      <td>0.0</td>\n",
       "      <td>0.0</td>\n",
       "      <td>1.0</td>\n",
       "      <td>0.0</td>\n",
       "      <td>0.0</td>\n",
       "      <td>0.0</td>\n",
       "      <td>0.0</td>\n",
       "    </tr>\n",
       "    <tr>\n",
       "      <th>1</th>\n",
       "      <td>85</td>\n",
       "      <td>Memoir '44: Campaign Book Volume 1</td>\n",
       "      <td>From the publisher's website:&lt;br/&gt;&lt;br/&gt;The Mem...</td>\n",
       "      <td>https://cf.geekdo-images.com/original/img/8xGN...</td>\n",
       "      <td>8.21000</td>\n",
       "      <td>836</td>\n",
       "      <td>2.0</td>\n",
       "      <td>8.0</td>\n",
       "      <td>40.0</td>\n",
       "      <td>0.0</td>\n",
       "      <td>...</td>\n",
       "      <td>0.0</td>\n",
       "      <td>0.0</td>\n",
       "      <td>0.0</td>\n",
       "      <td>0.0</td>\n",
       "      <td>0.0</td>\n",
       "      <td>0.0</td>\n",
       "      <td>0.0</td>\n",
       "      <td>0.0</td>\n",
       "      <td>0.0</td>\n",
       "      <td>0.0</td>\n",
       "    </tr>\n",
       "    <tr>\n",
       "      <th>2</th>\n",
       "      <td>113</td>\n",
       "      <td>ASL Action Pack #2</td>\n",
       "      <td>ASL Action Pack #2 is not a complete game.&lt;br/...</td>\n",
       "      <td>https://cf.geekdo-images.com/original/img/g-PI...</td>\n",
       "      <td>8.10756</td>\n",
       "      <td>119</td>\n",
       "      <td>2.0</td>\n",
       "      <td>2.0</td>\n",
       "      <td>0.0</td>\n",
       "      <td>0.0</td>\n",
       "      <td>...</td>\n",
       "      <td>0.0</td>\n",
       "      <td>0.0</td>\n",
       "      <td>0.0</td>\n",
       "      <td>0.0</td>\n",
       "      <td>1.0</td>\n",
       "      <td>0.0</td>\n",
       "      <td>0.0</td>\n",
       "      <td>0.0</td>\n",
       "      <td>0.0</td>\n",
       "      <td>0.0</td>\n",
       "    </tr>\n",
       "    <tr>\n",
       "      <th>3</th>\n",
       "      <td>140</td>\n",
       "      <td>Doctor Who Miniatures Game</td>\n",
       "      <td>The Doctor Who Miniatures Game allows players ...</td>\n",
       "      <td>https://cf.geekdo-images.com/original/img/EBWp...</td>\n",
       "      <td>8.06522</td>\n",
       "      <td>23</td>\n",
       "      <td>2.0</td>\n",
       "      <td>2.0</td>\n",
       "      <td>60.0</td>\n",
       "      <td>0.0</td>\n",
       "      <td>...</td>\n",
       "      <td>0.0</td>\n",
       "      <td>0.0</td>\n",
       "      <td>0.0</td>\n",
       "      <td>0.0</td>\n",
       "      <td>0.0</td>\n",
       "      <td>0.0</td>\n",
       "      <td>0.0</td>\n",
       "      <td>0.0</td>\n",
       "      <td>0.0</td>\n",
       "      <td>0.0</td>\n",
       "    </tr>\n",
       "    <tr>\n",
       "      <th>4</th>\n",
       "      <td>230</td>\n",
       "      <td>Battleground: Kingdoms</td>\n",
       "      <td>Battleground: Kingdoms is a campaign system an...</td>\n",
       "      <td>https://cf.geekdo-images.com/original/img/pUGM...</td>\n",
       "      <td>7.93000</td>\n",
       "      <td>50</td>\n",
       "      <td>2.0</td>\n",
       "      <td>12.0</td>\n",
       "      <td>60.0</td>\n",
       "      <td>0.0</td>\n",
       "      <td>...</td>\n",
       "      <td>0.0</td>\n",
       "      <td>0.0</td>\n",
       "      <td>0.0</td>\n",
       "      <td>0.0</td>\n",
       "      <td>0.0</td>\n",
       "      <td>0.0</td>\n",
       "      <td>0.0</td>\n",
       "      <td>0.0</td>\n",
       "      <td>0.0</td>\n",
       "      <td>0.0</td>\n",
       "    </tr>\n",
       "  </tbody>\n",
       "</table>\n",
       "<p>5 rows × 283 columns</p>\n",
       "</div>"
      ],
      "text/plain": [
       "   Unnamed: 0                                name  \\\n",
       "0          25   Armies of Oblivion: ASL Module 12   \n",
       "1          85  Memoir '44: Campaign Book Volume 1   \n",
       "2         113                  ASL Action Pack #2   \n",
       "3         140          Doctor Who Miniatures Game   \n",
       "4         230              Battleground: Kingdoms   \n",
       "\n",
       "                                         description  \\\n",
       "0  Armies of Oblivion is the long-awaited module ...   \n",
       "1  From the publisher's website:<br/><br/>The Mem...   \n",
       "2  ASL Action Pack #2 is not a complete game.<br/...   \n",
       "3  The Doctor Who Miniatures Game allows players ...   \n",
       "4  Battleground: Kingdoms is a campaign system an...   \n",
       "\n",
       "                                               image   rating  usersrated  \\\n",
       "0  https://cf.geekdo-images.com/original/img/-aP6...  8.43063         271   \n",
       "1  https://cf.geekdo-images.com/original/img/8xGN...  8.21000         836   \n",
       "2  https://cf.geekdo-images.com/original/img/g-PI...  8.10756         119   \n",
       "3  https://cf.geekdo-images.com/original/img/EBWp...  8.06522          23   \n",
       "4  https://cf.geekdo-images.com/original/img/pUGM...  7.93000          50   \n",
       "\n",
       "   minplayers  maxplayers  playingtime  alliances  ...  korean war  \\\n",
       "0         2.0         2.0          0.0        0.0  ...         0.0   \n",
       "1         2.0         8.0         40.0        0.0  ...         0.0   \n",
       "2         2.0         2.0          0.0        0.0  ...         0.0   \n",
       "3         2.0         2.0         60.0        0.0  ...         0.0   \n",
       "4         2.0        12.0         60.0        0.0  ...         0.0   \n",
       "\n",
       "   fan expansion  strategy games  abstract games  family games  \\\n",
       "0            0.0             1.0             0.0           0.0   \n",
       "1            0.0             0.0             0.0           0.0   \n",
       "2            0.0             0.0             0.0           1.0   \n",
       "3            0.0             0.0             0.0           0.0   \n",
       "4            0.0             0.0             0.0           0.0   \n",
       "\n",
       "   thematic games  customizable games  wargames  party games  children's games  \n",
       "0             1.0                 0.0       0.0          0.0               0.0  \n",
       "1             0.0                 0.0       0.0          0.0               0.0  \n",
       "2             0.0                 0.0       0.0          0.0               0.0  \n",
       "3             0.0                 0.0       0.0          0.0               0.0  \n",
       "4             0.0                 0.0       0.0          0.0               0.0  \n",
       "\n",
       "[5 rows x 283 columns]"
      ]
     },
     "execution_count": 143,
     "metadata": {},
     "output_type": "execute_result"
    }
   ],
   "source": [
    "p = preferences_list\n",
    "\n",
    "suitable_games = user_to_data(p, data)\n",
    "suitable_games.reset_index(drop=True, inplace=True)\n",
    "\n",
    "suitable_games.head()"
   ]
  },
  {
   "cell_type": "markdown",
   "id": "975a2905",
   "metadata": {},
   "source": [
    "# User output\n",
    "\n",
    "Out of all the boardgames that are in line with the user's desired characteristics, we want to suggest (output):\n",
    "\n",
    "1) the highest rated \n",
    "2) the most played (the one with the most user reviews)\n",
    "3) a random one, if the user wants to experiment\n",
    "\n",
    "The random game will be selected and presented at a later stage of our code. For now, we only need to extract the names of the top rated and the most played game. For this purpose, I'll make one function for each of these, and then combine them into a master function. \n",
    "\n",
    "##### notes for small functions:\n",
    "\n",
    "Function (1) is easy to perform, as the data is already sorted with respect to rating in decresing order. So all this function needs to do is return the name of the 1st entry of the inputted df.\n",
    "\n",
    "Function (2) will sort the dataframe with respect to number of user ratings in decreasing order, and then it will return the name of the 1st entry of the resulting (sorted) dataframe."
   ]
  },
  {
   "cell_type": "code",
   "execution_count": 139,
   "id": "43208ef3",
   "metadata": {},
   "outputs": [],
   "source": [
    "# 1: Highest rated\n",
    "\n",
    "def rated(df):\n",
    "    return df.loc[0, 'name']\n",
    "\n",
    "\n",
    "# 2: Most played\n",
    "\n",
    "def played(df):\n",
    "    sorted_df = df.sort_values('usersrated', ascending=False)\n",
    "    sorted_df.reset_index(drop=True, inplace=True)\n",
    "    return sorted_df.loc[0, 'name']"
   ]
  },
  {
   "cell_type": "markdown",
   "id": "b022ca06",
   "metadata": {},
   "source": [
    "# Final Master function"
   ]
  },
  {
   "cell_type": "code",
   "execution_count": 141,
   "id": "3da40d62",
   "metadata": {},
   "outputs": [],
   "source": [
    "def names(df):\n",
    "    \n",
    "    r = rated(df)\n",
    "    p = played(df)\n",
    "    \n",
    "    return r, p"
   ]
  },
  {
   "cell_type": "markdown",
   "id": "756b03db",
   "metadata": {},
   "source": [
    "# TEST\n",
    "_hint: it works_"
   ]
  },
  {
   "cell_type": "code",
   "execution_count": 144,
   "id": "c5915c5b",
   "metadata": {},
   "outputs": [
    {
     "data": {
      "text/plain": [
       "('Armies of Oblivion: ASL Module 12', 'Ticket to Ride')"
      ]
     },
     "execution_count": 144,
     "metadata": {},
     "output_type": "execute_result"
    }
   ],
   "source": [
    "names(suitable_games)"
   ]
  }
 ],
 "metadata": {
  "kernelspec": {
   "display_name": "Python 3 (ipykernel)",
   "language": "python",
   "name": "python3"
  },
  "language_info": {
   "codemirror_mode": {
    "name": "ipython",
    "version": 3
   },
   "file_extension": ".py",
   "mimetype": "text/x-python",
   "name": "python",
   "nbconvert_exporter": "python",
   "pygments_lexer": "ipython3",
   "version": "3.9.16"
  }
 },
 "nbformat": 4,
 "nbformat_minor": 5
}

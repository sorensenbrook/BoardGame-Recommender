{
 "cells": [
  {
   "cell_type": "markdown",
   "id": "3e124941",
   "metadata": {},
   "source": [
    "# BOARDGAME RECOMMENDER\n",
    "***By Iason, Brook & Joep***"
   ]
  },
  {
   "cell_type": "markdown",
   "id": "7edf6a69",
   "metadata": {},
   "source": [
    "<br>"
   ]
  },
  {
   "cell_type": "markdown",
   "id": "35e5bdbf",
   "metadata": {},
   "source": [
    "#### Abstract"
   ]
  },
  {
   "cell_type": "markdown",
   "id": "8db3f1f9",
   "metadata": {},
   "source": [
    "#### The aim of this notebook is to clearly display our code which uses a graphical user interface that stores a user's preferences in order to generate 3 boardgame recommendations based on these preferences. The boardgame recommender is a software that, first, asks questions and interprets the user's answer, and then scans through a database of 10,000 boardgames to determine the ones that best fit the preferences. The software consists of 7 parts."
   ]
  },
  {
   "cell_type": "markdown",
   "id": "e680ae69",
   "metadata": {},
   "source": [
    "<br>"
   ]
  },
  {
   "cell_type": "markdown",
   "id": "8b7c48e6",
   "metadata": {},
   "source": [
    "#### 1. Preparation \n",
    "The preparation parts consist of importing the necessary libraries and defining needed variables"
   ]
  },
  {
   "cell_type": "code",
   "execution_count": 1,
   "id": "9ad49b63",
   "metadata": {},
   "outputs": [],
   "source": [
    "import customtkinter as ck\n",
    "import tkinter as tk\n",
    "from PIL import Image, ImageTk\n",
    "import requests\n",
    "from io import BytesIO\n",
    "import pandas as pd\n",
    "import random\n",
    "import copy\n",
    "from keybert import KeyBERT\n",
    "import nltk\n",
    "import re\n",
    "import csv\n",
    "from nltk import word_tokenize\n",
    "import gensim.downloader as api\n"
   ]
  },
  {
   "cell_type": "code",
   "execution_count": 2,
   "id": "e5bbb328",
   "metadata": {},
   "outputs": [],
   "source": [
    "# Questions for questionaire\n",
    "question_lst = [\n",
    "    'What kind of theme should your game have? What theme we mean a topic that sets the atmosphere of the game. Examples are; American Civil War, Zombies, Fantasy etc.',\n",
    "    'What type of game should it be? Examples are; card games, word games, memory based game etc.',\n",
    "    'What mechanisms should your game be based on? In other words, what type of actions based game would you like? Examples are; voting, grid movement, zone controlment, luck or dice rolling based games.',\n",
    "    'What is the maximum time the game should take? Please answer in minutes',\n",
    "    'With how many players should the game be playable?'\n",
    "    ]\n",
    "\n",
    "\n",
    "def create_question_dic(lst):\n",
    "    dic = {}\n",
    "    for i, q in enumerate(lst):\n",
    "        dic['Q'+str(i+1)]=q\n",
    "    return dic    \n",
    "\n",
    "\n",
    "df_games = pd.read_csv('final_data_f.csv')\n",
    "data = copy.deepcopy(df_games)\n",
    "questions = create_question_dic(question_lst)\n",
    "numofq = len(questions)\n",
    "answers = {}\n",
    "question_number = 1 #Will be used later to loop through the questions\n",
    "moved_once = 0       #boolean\n",
    "come_from_last_q = 0 #boolean\n",
    "completed_q = 0      #boolean\n",
    "completed_r = 0      #boolean\n",
    "\n",
    "if numofq<3:\n",
    "    raise ValueError('Question list should contain at leasth 3 questions')"
   ]
  },
  {
   "cell_type": "markdown",
   "id": "e497ee28",
   "metadata": {},
   "source": [
    "#### 2. Questionnaire \n",
    "Using Custom Tkinter to create a modern looking GUI, we asked questions regarding categories in our dataset to eventually extract the user's boardgame preferences. There are 5 questions being asked in a specific order. The user can move through them and move back to, if needed, change answers. When all questions are answered the user can chose to submit.  \n"
   ]
  },
  {
   "cell_type": "code",
   "execution_count": 3,
   "id": "e17bacac",
   "metadata": {},
   "outputs": [],
   "source": [
    "# Function which will be called when the questionnaire is finished to make sure the program continues\n",
    "def continue_with_recommendation():\n",
    "    global completed_q\n",
    "    completed_q += 1\n",
    "    root.destroy()"
   ]
  },
  {
   "cell_type": "code",
   "execution_count": 4,
   "id": "52b708d5",
   "metadata": {},
   "outputs": [],
   "source": [
    "# Function which will be called upon submitting to create a popup which asks if the user is sure to submit\n",
    "def popup_submit():\n",
    "    message = 'Are you sure you want to submit your answers? You cannot change your answers afterwards.'\n",
    "\n",
    "    popup = tk.Tk()\n",
    "    # Sets the size of the popup and the title in the most upper bar\n",
    "    popup.geometry('500x250')\n",
    "    popup.title('SURE TO SUBMIT?')\n",
    "\n",
    "    # Which message the popups shows. Wraplength makes the message continue on the\n",
    "    # next line. Without the wraplength parameter the message wont fit on the popup\n",
    "    label = tk.Label(popup, text=message, font=(\"Helvetica\", 20), wraplength=450)\n",
    "    label.pack(pady=20)\n",
    "\n",
    "    # Frames need to be defined otherwise you get errors\n",
    "    button_frame = tk.Frame(popup)\n",
    "    button_frame.pack(pady=20)\n",
    "\n",
    "    # Make the buttons. Lambda: [fuc1, fuc2] is used so both functions are excicuted\n",
    "    B1 = tk.Button(button_frame, text=\"Submit\", command=lambda: [continue_with_recommendation(), popup.destroy()], width=15, height=20)\n",
    "    B1.pack(side='right', padx=10)\n",
    "\n",
    "    B2 = tk.Button(button_frame, text=\"Cancel\", command=popup.destroy, width=15, height=20)\n",
    "    B2.pack(side='left', padx=10)\n",
    "\n",
    "    popup.mainloop()"
   ]
  },
  {
   "cell_type": "code",
   "execution_count": 5,
   "id": "b8d5fb3d",
   "metadata": {},
   "outputs": [],
   "source": [
    "# Functions which will be executed when the corresponding button is pressed\n",
    "def nextquestioncommand():\n",
    "    global question_number, textbox\n",
    "    ans = textbox.get('0.0', 'end-1c')\n",
    "    answers['A' + str(question_number)] = ans\n",
    "    textbox.delete('0.0', 'end-1c')\n",
    "    question_number += 1\n",
    "    key = 'A' + str(question_number)\n",
    "    if key in answers:\n",
    "        textbox.insert('0.0', answers['A' + str(question_number)])\n",
    "    define_layout()\n",
    "\n",
    "def previousquestioncommand():\n",
    "    global question_number, come_from_last_q\n",
    "    ans = textbox.get('0.0', 'end-1c')\n",
    "    answers['A' + str(question_number)] = ans\n",
    "    textbox.delete('0.0', 'end-1c')\n",
    "    question_number -= 1\n",
    "    textbox.insert('0.0', answers['A' + str(question_number)])\n",
    "    define_layout() \n",
    "\n",
    "def submitanswerscommand():\n",
    "    ans = textbox.get('0.0', 'end-1c')\n",
    "    answers['A' + str(question_number)] = ans\n",
    "    popup_submit()"
   ]
  },
  {
   "cell_type": "code",
   "execution_count": 6,
   "id": "722d55e2",
   "metadata": {},
   "outputs": [],
   "source": [
    "# Following functions will define where which frame is displayed\n",
    "def set_question_label():\n",
    "    global question_label\n",
    "    question_label.pack_forget()\n",
    "    question_label = ck.CTkLabel(root, text=questions['Q'+str(question_number)], font=ck.CTkFont(size=20, weight='bold'), wraplength=650)\n",
    "    question_label.pack()\n",
    "\n",
    "def set_textbox():\n",
    "    textbox.pack(padx=(40, 50), pady=30, anchor='center')\n",
    "\n",
    "def set_next_button():\n",
    "    next_button.pack(side='right', padx=50)\n",
    "    \n",
    "def set_previous_button():\n",
    "    previous_button.pack(side='left', padx=50)\n",
    "\n",
    "def set_sumbit_button():\n",
    "    submit_button.pack(side='right', padx=50)\n",
    "\n",
    "def set_quit_button():\n",
    "    quit_button.pack(side=\"left\", anchor=\"sw\", padx=10, pady=10)"
   ]
  },
  {
   "cell_type": "code",
   "execution_count": 7,
   "id": "fcca26a8",
   "metadata": {},
   "outputs": [],
   "source": [
    "# The following function will determine how the GUI looks and works. All if statements are used together with previous \n",
    "# booleans to inform the programm on which 'page' the user is and how the GUI should look like\n",
    "def define_layout():\n",
    "    global next_button, previous_button, submit_button, moved_once, come_from_last_q\n",
    "    \n",
    "    # When first runned. How the GUI pops up\n",
    "    if question_number == 1 and moved_once == 0:\n",
    "        set_question_label()\n",
    "        set_textbox()\n",
    "        set_next_button()\n",
    "        set_quit_button()\n",
    "        \n",
    "    \n",
    "    # When you first go from question 1 to 2\n",
    "    elif 1<question_number<numofq  and moved_once == 0:\n",
    "        moved_once += 1\n",
    "        question_label.pack_forget()\n",
    "        textbox.pack_forget()\n",
    "        next_button.pack_forget()\n",
    "        set_question_label()\n",
    "        set_textbox()\n",
    "        set_next_button()\n",
    "        set_previous_button()        \n",
    "    \n",
    "    # If you go back to question 1\n",
    "    elif question_number == 1 and moved_once != 0:\n",
    "        textbox.pack_forget()\n",
    "        next_button.pack_forget()\n",
    "        previous_button.pack_forget()\n",
    "        set_question_label()\n",
    "        set_textbox()\n",
    "        set_next_button()        \n",
    "    \n",
    "    # When you go to any next question if not the last question \n",
    "    elif 1<question_number<numofq and moved_once !=0: \n",
    "        textbox.pack_forget()\n",
    "        next_button.pack_forget()\n",
    "        previous_button.pack_forget()\n",
    "        # To make sure that if you were at the last question the submit gets \n",
    "        # thrown away\n",
    "        if come_from_last_q != 0:\n",
    "            submit_button.pack_forget()\n",
    "            come_from_last_q -= 1\n",
    "                \n",
    "        set_question_label()\n",
    "        set_textbox()\n",
    "        set_next_button() \n",
    "        set_previous_button()\n",
    "    \n",
    "    # When you go to the last question (cause only then will question_number \n",
    "    # not be below numofq and moved_once wont be equal to 0. It is the only \n",
    "    # possibilty left)\n",
    "    else:\n",
    "        textbox.pack_forget()\n",
    "        next_button.pack_forget()\n",
    "        previous_button.pack_forget()\n",
    "        come_from_last_q += 1\n",
    "        set_question_label()\n",
    "        set_textbox()\n",
    "        set_sumbit_button() \n",
    "        set_previous_button()"
   ]
  },
  {
   "cell_type": "code",
   "execution_count": 8,
   "id": "b9486628",
   "metadata": {},
   "outputs": [],
   "source": [
    "# Actually creating the GUI\n",
    "root = ck.CTk()\n",
    "\n",
    "root.geometry('750x450')\n",
    "root.title('Boardgame Recommender')\n",
    "ck.set_appearance_mode(\"Dark\")\n",
    "\n",
    "title_label = ck.CTkLabel(root, text='Boardgame Questionnaire', font=ck.CTkFont(size=30, weight='bold')) \n",
    "title_label.pack(padx=5, pady=5)\n",
    "\n",
    "question_label = ck.CTkLabel(root, text=questions['Q'+str(question_number)], font=ck.CTkFont(size=20, weight='bold'), wraplength=650)\n",
    "\n",
    "textbox=ck.CTkTextbox(root, width=680, height=200, fg_color='#383838')\n",
    "textbox.insert('0.0','Answer here')\n",
    "\n",
    "next_button = ck.CTkButton(root, text='Next Question', width=250, command=nextquestioncommand)\n",
    "\n",
    "previous_button = ck.CTkButton(root, text='Previous Question', width=250, command=previousquestioncommand)\n",
    "\n",
    "submit_button = ck.CTkButton(root, text='Submit', width=250, command=submitanswerscommand)\n",
    "\n",
    "quit_button = ck.CTkButton(root, text='quit', width=45, height=10, command=root.destroy, fg_color='red', text_color='black')\n",
    "\n",
    "\n",
    "\n",
    "define_layout()\n",
    "\n",
    "root.mainloop()"
   ]
  },
  {
   "cell_type": "code",
   "execution_count": 9,
   "id": "1b2c668a",
   "metadata": {},
   "outputs": [],
   "source": [
    "# Making sure the program continues when continue_with_recommendation() is called and not earlier\n",
    "while completed_q!=1:\n",
    "    pass"
   ]
  },
  {
   "cell_type": "markdown",
   "id": "509d091e",
   "metadata": {},
   "source": [
    "#### 3. Loading screen \n",
    "Constructing a loading screen which shows while the program is calculating the recommendation so it doesn't look like the program froze"
   ]
  },
  {
   "cell_type": "code",
   "execution_count": 10,
   "id": "025e485d",
   "metadata": {},
   "outputs": [
    {
     "name": "stderr",
     "output_type": "stream",
     "text": [
      "C:\\Users\\Joep Kapma\\anaconda_home_made_map_v2\\lib\\site-packages\\customtkinter\\windows\\widgets\\core_widget_classes\\ctk_base_class.py:179: UserWarning: CTkLabel Warning: Given image is not CTkImage but <class 'PIL.ImageTk.PhotoImage'>. Image can not be scaled on HighDPI displays, use CTkImage instead.\n",
      "\n",
      "  warnings.warn(f\"{type(self).__name__} Warning: Given image is not CTkImage but {type(image)}. Image can not be scaled on HighDPI displays, use CTkImage instead.\\n\")\n"
     ]
    }
   ],
   "source": [
    "root = ck.CTk()\n",
    "\n",
    "root.geometry('750x450')\n",
    "root.title('Boardgame Recommender')\n",
    "ck.set_appearance_mode(\"Dark\")\n",
    "\n",
    "title_label = ck.CTkLabel(root, text='Loading...', font=ck.CTkFont(size=30, weight='bold')) \n",
    "title_label.pack(padx=5, pady=5)\n",
    "\n",
    "def show_gif():\n",
    "    image1 = Image.open(r\"loading3.1.gif\")\n",
    "    framesTotal = image1.n_frames\n",
    "\n",
    "    play_back_delay = 150\n",
    "    animation = []\n",
    "\n",
    "    def loadGif():\n",
    "        for x in range(framesTotal):\n",
    "            frame = ImageTk.PhotoImage(image1.copy())\n",
    "            animation.append(frame)\n",
    "            image1.seek(x)\n",
    "\n",
    "\n",
    "    def update(ind):\n",
    "        frame = animation[ind]\n",
    "        label.configure(image=frame)\n",
    "        \n",
    "        ind += 1\n",
    "        if ind == framesTotal:\n",
    "            ind = 0\n",
    "\n",
    "        root.after(play_back_delay, update, ind)\n",
    "        \n",
    "    label = ck.CTkLabel(root)\n",
    "    label.configure(text='')  # Set the text to an empty string\n",
    "    label.pack()\n",
    "    loadGif()\n",
    "    update(0)\n",
    "\n",
    "show_gif()\n",
    "\n",
    "quit_button = ck.CTkButton(root, text='quit', width=45, height=10, command=root.destroy, fg_color='red', text_color='black')\n",
    "quit_button.pack()"
   ]
  },
  {
   "cell_type": "markdown",
   "id": "0cf10064",
   "metadata": {},
   "source": [
    "root.mainloop() is called later. This way all of the following code is included in the loading screen making sure this is performed while the loading screen is there."
   ]
  },
  {
   "cell_type": "markdown",
   "id": "e36c9245",
   "metadata": {},
   "source": [
    "#### 4. Extracting data from answers \n",
    "Data is extracted from the answers and preparing functions which will be used for the preferences in part 5"
   ]
  },
  {
   "cell_type": "code",
   "execution_count": 11,
   "id": "e2203053",
   "metadata": {},
   "outputs": [],
   "source": [
    "# Using BERT model to get to most valuable word from the answer, in this case the catagory or the mechanism\n",
    "sw = ['boardgames', 'boardgame', 'theme', 'game', 'games', 'themes', 'set', 'atmosphere', 'topic', 'topics', 'mechanisms', 'mechanism']\n",
    "kw_model = KeyBERT()\n",
    "\n",
    "def extract_keyword(input_user):\n",
    "    all_keywords = kw_model.extract_keywords(input_user, stop_words=sw)\n",
    "    return all_keywords[0][0]"
   ]
  },
  {
   "cell_type": "markdown",
   "id": "c3feb8cd",
   "metadata": {},
   "source": [
    "Below code is focused on finding the numbers the user provided, either typed out or in numbers. If more then 1 number is found, the lowest is assumed to be the minimum time or number of players, and the highest the max. If only 1 number is found, it is assumed to be the max time or number of players"
   ]
  },
  {
   "cell_type": "code",
   "execution_count": 12,
   "id": "e5452f8f",
   "metadata": {},
   "outputs": [],
   "source": [
    "\n",
    "def find_spelled_integers(sentence):\n",
    "    # Define a dictionary to map spelled-out numbers to their corresponding integer values\n",
    "    number_dict = {\n",
    "        'zero': 0, 'one': 1, 'two': 2, 'three': 3, 'four': 4, 'five': 5, 'six': 6,\n",
    "        'seven': 7, 'eight': 8, 'nine': 9, 'ten': 10, 'eleven': 11, 'twelve': 12,\n",
    "        'thirteen': 13, 'fourteen': 14, 'fifteen': 15, 'sixteen': 16, 'seventeen': 17,\n",
    "        'eighteen': 18, 'nineteen': 19, 'twenty': 20, 'thirty': 30, 'forty': 40,\n",
    "        'fifty': 50, 'sixty': 60, 'seventy': 70, 'eighty': 80, 'ninety': 90,\n",
    "        'hundred': 100, 'thousand': 1000\n",
    "    }\n",
    "\n",
    "    # Define a pattern to match spelled-out numbers\n",
    "    pattern = r\"\\b(?:{})\\b\".format(\"|\".join(number_dict.keys()))\n",
    "\n",
    "    # Find all matches of spelled-out numbers in the sentence\n",
    "    matches = re.findall(pattern, sentence, re.IGNORECASE)\n",
    "\n",
    "    # Convert the spelled-out numbers to integers\n",
    "    integers = [number_dict[match.lower()] for match in matches]\n",
    "\n",
    "    # Remove duplicate integers\n",
    "    integers = list(set(integers))\n",
    "\n",
    "    return integers\n",
    "\n",
    "def find_intergers(sentence):\n",
    "    tok_input = nltk.tokenize.word_tokenize(sentence)\n",
    "    nums = [int(word) for word in tok_input if word.isdigit()]\n",
    "    return nums\n",
    "\n",
    "def find_all_numbers(user_input):\n",
    "    '''\n",
    "    Returns a list with smallest number and biggest number the users' answer  \n",
    "    '''\n",
    "    lst1 = find_intergers(user_input)\n",
    "    lst2 = find_spelled_integers(user_input)\n",
    "    lst_nums = lst1+lst2\n",
    "    if len(lst_nums) == 1:\n",
    "        return [0, lst_nums[0]]\n",
    "    else:\n",
    "        return [min(lst_nums), max(lst_nums)]"
   ]
  },
  {
   "cell_type": "markdown",
   "id": "8ea5eadd",
   "metadata": {},
   "source": [
    "#### 5. Preferences \n",
    "To transform the user's answers into preferences which will be used to determine which game fits best"
   ]
  },
  {
   "cell_type": "code",
   "execution_count": 13,
   "id": "9f686d17",
   "metadata": {},
   "outputs": [],
   "source": [
    "keyword_catagory_theme = extract_keyword(answers['A1']) \n",
    "keyword_catagory_type = extract_keyword(answers['A2'])\n",
    "keyword_mechanism = extract_keyword(answers['A3'])\n",
    "\n",
    "lst_playtime = find_all_numbers(answers['A4'])\n",
    "ans_min_playtime = lst_playtime[0]\n",
    "ans_max_playtime = lst_playtime[1]\n",
    "\n",
    "lst_num_players = find_all_numbers(answers['A5'])\n",
    "ans_min_players = lst_num_players[0]\n",
    "ans_max_players = lst_num_players[1]"
   ]
  },
  {
   "cell_type": "code",
   "execution_count": 14,
   "id": "b02435fd",
   "metadata": {},
   "outputs": [
    {
     "data": {
      "text/plain": [
       "<function TextIOWrapper.close()>"
      ]
     },
     "execution_count": 14,
     "metadata": {},
     "output_type": "execute_result"
    }
   ],
   "source": [
    "category_list = []  \n",
    "mechanism_list = []\n",
    "\n",
    "\n",
    "f = open(\"categories.csv\")\n",
    "category_list = list(csv.reader(f))\n",
    "\n",
    "# bayes_rating shows up twice\n",
    "category_list.remove(['bayes_rating'])\n",
    "category_list.remove(['bayes_rating'])\n",
    "\n",
    "f.close"
   ]
  },
  {
   "cell_type": "code",
   "execution_count": 15,
   "id": "d29fe13b",
   "metadata": {},
   "outputs": [
    {
     "data": {
      "text/plain": [
       "<function TextIOWrapper.close()>"
      ]
     },
     "execution_count": 15,
     "metadata": {},
     "output_type": "execute_result"
    }
   ],
   "source": [
    "f = open(\"mechanisms.csv\")\n",
    "mechanism_list = list(csv.reader(f))\n",
    "\n",
    "mechanism_list.remove(['bayes_rating'])\n",
    "mechanism_list.remove(['rating'])\n",
    "\n",
    "f.close"
   ]
  },
  {
   "cell_type": "code",
   "execution_count": 16,
   "id": "51f7b8ca",
   "metadata": {},
   "outputs": [],
   "source": [
    "def lowercase (lst):\n",
    "  new_lst = []\n",
    "  for item in lst:\n",
    "    temp_item = []\n",
    "    for word in item:\n",
    "      temp = word.lower()\n",
    "      temp_item.append(temp)\n",
    "    new_lst.append(temp_item)\n",
    "  \n",
    "  return new_lst"
   ]
  },
  {
   "cell_type": "code",
   "execution_count": 17,
   "id": "3dddd465",
   "metadata": {},
   "outputs": [],
   "source": [
    "cat_list_lower = lowercase(category_list)\n",
    "mech_list_lower = lowercase(mechanism_list)"
   ]
  },
  {
   "cell_type": "code",
   "execution_count": 18,
   "id": "d1198bbd",
   "metadata": {},
   "outputs": [
    {
     "name": "stderr",
     "output_type": "stream",
     "text": [
      "[nltk_data] Downloading package punkt to C:\\Users\\Joep\n",
      "[nltk_data]     Kapma\\AppData\\Roaming\\nltk_data...\n",
      "[nltk_data]   Package punkt is already up-to-date!\n",
      "[nltk_data] Downloading package stopwords to C:\\Users\\Joep\n",
      "[nltk_data]     Kapma\\AppData\\Roaming\\nltk_data...\n",
      "[nltk_data]   Package stopwords is already up-to-date!\n"
     ]
    },
    {
     "data": {
      "text/plain": [
       "True"
      ]
     },
     "execution_count": 18,
     "metadata": {},
     "output_type": "execute_result"
    }
   ],
   "source": [
    "nltk.download(\"punkt\")\n",
    "nltk.download(\"stopwords\")"
   ]
  },
  {
   "cell_type": "code",
   "execution_count": 19,
   "id": "618c0484",
   "metadata": {},
   "outputs": [],
   "source": [
    "stops = set(nltk.corpus.stopwords.words('english'))\n",
    "common_tokens = ['game', 'games', ':', \"'s\",]\n",
    "\n",
    "def tokenize (feature_list):\n",
    "  \n",
    "  temp_list = []\n",
    "\n",
    "  for item in feature_list:\n",
    "    word = item[0].replace('/', ' ')\n",
    "    word = word.replace('-', ' ')\n",
    "    word = word.replace('Minimap', 'mini map')\n",
    "    \n",
    "    temp_tokens = word_tokenize(word.lower())\n",
    "    filtered = [w for w in temp_tokens \n",
    "                if not w in stops \n",
    "                and not w in common_tokens]\n",
    "\n",
    "    temp_list.append(filtered)\n",
    "\n",
    "  return temp_list"
   ]
  },
  {
   "cell_type": "code",
   "execution_count": 20,
   "id": "9f5e8d0f",
   "metadata": {},
   "outputs": [],
   "source": [
    "clean_cat = tokenize(category_list)\n",
    "clean_mech = tokenize(mechanism_list)"
   ]
  },
  {
   "cell_type": "code",
   "execution_count": 21,
   "id": "d7dc2339",
   "metadata": {},
   "outputs": [],
   "source": [
    "wv = api.load('glove-wiki-gigaword-100') "
   ]
  },
  {
   "cell_type": "code",
   "execution_count": 22,
   "id": "9ec18d35",
   "metadata": {},
   "outputs": [],
   "source": [
    "def user_to_features (feature_list, user_input, dataform_list):\n",
    "  \n",
    "  sim_list = []\n",
    "\n",
    "  for feature in feature_list:\n",
    "    average = 0\n",
    "    for word in feature:\n",
    "      sim_val = wv.similarity(word, user_input)\n",
    "      average = average + sim_val\n",
    "\n",
    "    average = average / len(feature)\n",
    "    temp_tuple = (feature, average)\n",
    "    sim_list.append(temp_tuple)\n",
    "        \n",
    "  sim_df = pd.DataFrame(sim_list, columns = ['word', 'sim']) \n",
    "  sim_df = sim_df.sort_values(by=['sim'], ascending=False)\n",
    "\n",
    "  index = sim_df.index[0]\n",
    "\n",
    "  return dataform_list[index]"
   ]
  },
  {
   "cell_type": "code",
   "execution_count": 23,
   "id": "cb123119",
   "metadata": {},
   "outputs": [],
   "source": [
    "def user_to_pref():\n",
    "  user_list = [\"\", \"\", \"\", 0, 0, 0, 0]\n",
    "\n",
    "  #Category\n",
    "  user_list[0] = user_to_features(clean_cat, keyword_catagory_theme, cat_list_lower)[0]\n",
    "  \n",
    "  #Category2\n",
    "  user_list[1] = user_to_features(clean_cat, keyword_catagory_type, cat_list_lower)[0]\n",
    "  \n",
    "  #Mechanism\n",
    "  user_list[2] = user_to_features(clean_mech, keyword_mechanism, mech_list_lower)[0]\n",
    "\n",
    "  #Minplayers\n",
    "  user_list[3] = ans_min_players\n",
    "  \n",
    "  #Maxplayers\n",
    "  user_list[4] = ans_max_players\n",
    "\n",
    "  #Min time\n",
    "  user_list[5] = ans_min_playtime\n",
    "\n",
    "  #Max time\n",
    "  user_list[6] = ans_max_playtime\n",
    "  \n",
    "  return user_list"
   ]
  },
  {
   "cell_type": "code",
   "execution_count": 24,
   "id": "173f9644",
   "metadata": {},
   "outputs": [],
   "source": [
    "preferences_list = user_to_pref()"
   ]
  },
  {
   "cell_type": "markdown",
   "id": "3faa8b23",
   "metadata": {},
   "source": [
    "#### 6. Finding best fit game \n",
    "Using the extracted preferences, the best matching games are found using filtering the existing dataframe of boardgames on all preferences returning only a dataframe with games who furfill each preference"
   ]
  },
  {
   "cell_type": "code",
   "execution_count": 25,
   "id": "78b0368e",
   "metadata": {},
   "outputs": [],
   "source": [
    "def get_top_games(lst):\n",
    "    # 1: Category\n",
    "    def category(user, df):\n",
    "        user_cat = user[0] # extract relevant string\n",
    "        sub_df = df[df[user_cat]==True] # take subsection of df\n",
    "        return sub_df\n",
    "\n",
    "\n",
    "    # 1.2: Category2\n",
    "\n",
    "    def category2(user, df):\n",
    "        user_cat = user[1]\n",
    "        sub_df = df[df[user_cat]==True]\n",
    "        return sub_df\n",
    "\n",
    "    \n",
    "    # 2: Mechanisms\n",
    "    \n",
    "    def mechanisms(user, df):\n",
    "        user_mec = user[2]\n",
    "        sub_df = df[df[user_mec]==True]\n",
    "        return sub_df\n",
    "\n",
    "    # 3: Number of players\n",
    "\n",
    "    def numplayers(user, df):\n",
    "        \n",
    "        # extract user's interval\n",
    "        min_num = user[3]\n",
    "        max_num = user[4]\n",
    "        \n",
    "        # take subsection of df\n",
    "        sub_df = df.query(\"@min_num <= minplayers <= @max_num\" or \n",
    "                          \"@min_num <= maxplayers <= @max_num\")\n",
    "        return sub_df\n",
    "    \n",
    "    \n",
    "    # 4: Playtime\n",
    "    \n",
    "    def playtime(user, df):\n",
    "        \n",
    "        min_time = user[5]\n",
    "        max_time = user[6] \n",
    "        \n",
    "        sub_df = df.query(\"@min_time <= playingtime <= @max_time\")\n",
    "        return sub_df\n",
    "\n",
    "    def user_to_data(user, df):\n",
    "        '''\n",
    "        Takes in a list of user preferences over boardgame specifications and a dataframe of \n",
    "        boardgames. Returns a subsection of the initial dataframe, containing only the boardgames\n",
    "        in line with the user\\'s preferences.\n",
    "        '''\n",
    "        \n",
    "        subdf_1 = category(user, df)\n",
    "        subdf_2 = category2(user, subdf_1)\n",
    "        subdf_3 = mechanisms(user, subdf_2)\n",
    "        subdf_4 = numplayers(user, subdf_3)\n",
    "        final_subdf = playtime(user, subdf_4)\n",
    "        \n",
    "        return final_subdf\n",
    "\n",
    "    p = preferences_list\n",
    "\n",
    "    suitable_games = user_to_data(p, data)\n",
    "    suitable_games.reset_index(drop=True, inplace=True)\n",
    "\n",
    "\n",
    "    # 1: Highest rated\n",
    "\n",
    "    def rated(df):\n",
    "        return df.loc[0, 'name']\n",
    "\n",
    "\n",
    "    # 2: Most played\n",
    "\n",
    "    def played(df):\n",
    "        sorted_df = df.sort_values('usersrated', ascending=False)\n",
    "        sorted_df.reset_index(drop=True, inplace=True)\n",
    "        return sorted_df.loc[0, 'name']\n",
    "\n",
    "    def names(df):\n",
    "        \n",
    "        r = rated(df)\n",
    "        p = played(df)\n",
    "        \n",
    "        return r, p\n",
    "    \n",
    "    high_rated, most_played = names(suitable_games)\n",
    "    return high_rated, most_played, suitable_games"
   ]
  },
  {
   "cell_type": "code",
   "execution_count": 26,
   "id": "4ed6e79d",
   "metadata": {},
   "outputs": [],
   "source": [
    "highest_ranked, most_ranked, df_filtered = get_top_games(preferences_list)"
   ]
  },
  {
   "cell_type": "markdown",
   "id": "1940106e",
   "metadata": {},
   "source": [
    "#### 7. Presenting recommendation \n",
    "To present the recommendations, a new GUI is created displaying 3 games. The highets rated boardgame in the reduced dataframe, the most recommendated and thus most played game and lastly a random game from the reduced dataframe. This random game can be refreshed using the button. "
   ]
  },
  {
   "cell_type": "code",
   "execution_count": 27,
   "id": "cc46a84b",
   "metadata": {},
   "outputs": [],
   "source": [
    "def get_image_link(game_name):\n",
    "    row = df_filtered.loc[df_filtered['name'] == game_name]\n",
    "    return row['image'].values[0]\n",
    "\n",
    "def get_description(game_name):\n",
    "    row = df_filtered.loc[df_filtered['name'] == game_name]\n",
    "    return row['description'].values[0]"
   ]
  },
  {
   "cell_type": "code",
   "execution_count": 28,
   "id": "15ded5d1",
   "metadata": {},
   "outputs": [],
   "source": [
    "used_numbers = []\n",
    "def random_nonrepeat(x):\n",
    "    # Create a list of possible numbers to choose from\n",
    "    nums = list(range(x+1))\n",
    "    # Remove any previously used numbers\n",
    "    for num in used_numbers:\n",
    "        nums.remove(num)\n",
    "    # Choose a random number from the remaining pool\n",
    "    y = random.choice(nums)\n",
    "    # Add the new number to the list of used numbers\n",
    "    used_numbers.append(y)\n",
    "    # If all numbers have been used, reset the list of used numbers\n",
    "    if len(used_numbers) == x+1:\n",
    "        used_numbers.clear()\n",
    "    return y\n",
    "\n",
    "displayed_random_game = []\n",
    "df = data\n",
    "def random_game():\n",
    "    global displayed_random_game, df\n",
    "    df = df.drop(df[df['name'] == highest_ranked].index)\n",
    "    df = df.drop(df[df['name'] == most_ranked].index)\n",
    "    if len(displayed_random_game) != 0:\n",
    "        df = df.drop(df[df['name'] == displayed_random_game[-1]].index)    \n",
    "    size_df = len(df)\n",
    "    i = random_nonrepeat(size_df)\n",
    "    game_title = df.loc[i, 'name']\n",
    "    game_description = df.loc[i, 'description']\n",
    "    game_image_link = df.loc[i, 'image']\n",
    "    displayed_random_game.append(game_title)\n",
    "    return game_title, game_description, game_image_link\n"
   ]
  },
  {
   "cell_type": "code",
   "execution_count": 29,
   "id": "3760693d",
   "metadata": {},
   "outputs": [],
   "source": [
    "def create_tkImage(link):\n",
    "    img_url = link\n",
    "    response = requests.get(img_url)\n",
    "    img_data = response.content\n",
    "    img = Image.open(BytesIO(img_data))\n",
    "    img = img.resize((300, 200), Image.ANTIALIAS)\n",
    "    img = ImageTk.PhotoImage(img)\n",
    "    return img"
   ]
  },
  {
   "cell_type": "code",
   "execution_count": 30,
   "id": "3a332fd3",
   "metadata": {},
   "outputs": [],
   "source": [
    "def random_button():\n",
    "    global frame3, discrip_label_3, frame3_3, frame3_2, frame3_1, title_random, title_game_label_3\n",
    "    title_game_3, discription_3, image_link_3 = random_game()\n",
    "    \n",
    "    discrip_label_3.pack_forget()\n",
    "    frame3_3.pack_forget()\n",
    "    title_game_label_3.pack_forget()\n",
    "    frame3_2.pack_forget()\n",
    "    frame3_1.pack_forget()\n",
    "    title_random.pack_forget()\n",
    "    frame3.pack_forget()\n",
    "    \n",
    "    \n",
    "    \n",
    "    frame3 = ck.CTkFrame(root, fg_color='#383838')\n",
    "    frame3.pack(side='left', fill='both', expand=True, padx=5, pady=5)\n",
    "    \n",
    "    title_random = ck.CTkLabel(frame3, text='3. Random game which fits your preferences', font=ck.CTkFont(size=20, weight='bold'), wraplength=340) \n",
    "    title_random.pack(pady=10)\n",
    "    \n",
    "    frame3_1 = ck.CTkFrame(frame3, fg_color='black', width=300, height=200)\n",
    "    frame3_1.pack()\n",
    "    \n",
    "    image_3 = create_tkImage(image_link_3)\n",
    "    image_label_3 = ck.CTkLabel(frame3_1, image=image_3)\n",
    "    image_label_3.configure(text='')  # Set the text to an empty string\n",
    "    image_label_3.pack()\n",
    "    image_label_3.image = image_3\n",
    "    \n",
    "    frame3_2 = ck.CTkFrame(frame3, fg_color='#383838', width=300, height=50)\n",
    "    frame3_2.pack(pady=10)\n",
    "    \n",
    "    title_game_label_3 = ck.CTkLabel(frame3_2, text=title_game_3, font=ck.CTkFont(size=17, weight='normal'), wraplength=350) \n",
    "    title_game_label_3.pack()\n",
    "    \n",
    "    frame3_3 = ck.CTkScrollableFrame(frame3, fg_color='#2b2b2b', width=300, height=250)\n",
    "    frame3_3.pack(pady=10)\n",
    "    \n",
    "    discrip_label_3 = ck.CTkLabel(frame3_3, text=discription_3, font=ck.CTkFont(size=12, weight='normal'), wraplength=300) \n",
    "    discrip_label_3.pack() \n"
   ]
  },
  {
   "cell_type": "markdown",
   "id": "46db6f9a",
   "metadata": {},
   "source": [
    "This is the root.mainloop() from the loading screen. root.after makes sure it actually closes automatically"
   ]
  },
  {
   "cell_type": "code",
   "execution_count": 31,
   "id": "679bd7a0",
   "metadata": {},
   "outputs": [
    {
     "name": "stderr",
     "output_type": "stream",
     "text": [
      "C:\\Users\\Joep Kapma\\anaconda_home_made_map_v2\\lib\\site-packages\\customtkinter\\windows\\widgets\\core_widget_classes\\ctk_base_class.py:179: UserWarning: CTkLabel Warning: Given image is not CTkImage but <class 'PIL.ImageTk.PhotoImage'>. Image can not be scaled on HighDPI displays, use CTkImage instead.\n",
      "\n",
      "  warnings.warn(f\"{type(self).__name__} Warning: Given image is not CTkImage but {type(image)}. Image can not be scaled on HighDPI displays, use CTkImage instead.\\n\")\n"
     ]
    }
   ],
   "source": [
    "root.after(2000, root.destroy)\n",
    "root.mainloop()"
   ]
  },
  {
   "cell_type": "code",
   "execution_count": 32,
   "id": "02d4381e",
   "metadata": {},
   "outputs": [
    {
     "name": "stderr",
     "output_type": "stream",
     "text": [
      "C:\\Users\\Joep Kapma\\AppData\\Local\\Temp\\ipykernel_24664\\3746543910.py:6: DeprecationWarning: ANTIALIAS is deprecated and will be removed in Pillow 10 (2023-07-01). Use Resampling.LANCZOS instead.\n",
      "  img = img.resize((300, 200), Image.ANTIALIAS)\n"
     ]
    }
   ],
   "source": [
    "root = ck.CTk()\n",
    "\n",
    "\n",
    "title_game_3, discription_3, image_link_3 = random_game()  \n",
    "\n",
    "image_link_1 = get_image_link(highest_ranked) \n",
    "image_link_2 = get_image_link(most_ranked)\n",
    "\n",
    "\n",
    "\n",
    "title_game_1 = highest_ranked\n",
    "title_game_2 = most_ranked\n",
    "\n",
    "discription_1 =  get_description(highest_ranked)\n",
    "discription_2 =  get_description(most_ranked)\n",
    "\n",
    "\n",
    "root.geometry('1020x600')\n",
    "root.title('Boardgame Recommender')\n",
    "ck.set_appearance_mode(\"Dark\")\n",
    "\n",
    "title_label = ck.CTkLabel(root, text='Boardgame Recommendation', font=ck.CTkFont(size=30, weight='bold')) \n",
    "title_label.pack(padx=5, pady=5)\n",
    "\n",
    "quit_button = ck.CTkButton(root, text='quit', width=45, height=10, command=root.destroy, fg_color='red', text_color='black')\n",
    "quit_button.pack(side=\"bottom\", anchor=\"se\", padx=10, pady=10)\n",
    "\n",
    "refresh_button = ck.CTkButton(root, text='load different random game', width=45, height=10, command=random_button)\n",
    "refresh_button.pack(side=\"bottom\", anchor=\"se\", padx=10, pady=10)\n",
    "\n",
    "frame1 = ck.CTkFrame(root, fg_color='#383838')\n",
    "frame1.pack(side='left', fill='both', expand=True, padx=5, pady=5)\n",
    "\n",
    "frame2 = ck.CTkFrame(root, fg_color='#383838')\n",
    "frame2.pack(side='left', fill='both', expand=True, padx=5, pady=5)\n",
    "\n",
    "frame3 = ck.CTkFrame(root, fg_color='#383838')\n",
    "frame3.pack(side='left', fill='both', expand=True, padx=5, pady=5)\n",
    "\n",
    "title_high_r = ck.CTkLabel(frame1, text='1. Highest rated game which fits your preferences', font=ck.CTkFont(size=20, weight='bold'), wraplength=340) \n",
    "title_high_r.pack(pady=10) \n",
    "\n",
    "title_most_p = ck.CTkLabel(frame2, text='2. Most rated game which fits your preferences', font=ck.CTkFont(size=20, weight='bold'), wraplength=340) \n",
    "title_most_p.pack(pady=10) \n",
    "\n",
    "title_random = ck.CTkLabel(frame3, text='3. Random game which fits your preferences', font=ck.CTkFont(size=20, weight='bold'), wraplength=340) \n",
    "title_random.pack(pady=10) \n",
    "\n",
    "frame1_1 = ck.CTkFrame(frame1, fg_color='black', width=300, height=200)\n",
    "frame1_1.pack()\n",
    "\n",
    "frame2_1 = ck.CTkFrame(frame2, fg_color='black', width=300, height=200)\n",
    "frame2_1.pack()\n",
    "\n",
    "frame3_1 = ck.CTkFrame(frame3, fg_color='black', width=300, height=200)\n",
    "frame3_1.pack()\n",
    "\n",
    "image_1 = create_tkImage(image_link_1)\n",
    "image_label_1 = ck.CTkLabel(frame1_1, image=image_1)\n",
    "image_label_1.configure(text='')  # Set the text to an empty string\n",
    "image_label_1.pack()\n",
    "image_label_1.image = image_1\n",
    "\n",
    "image_2 = create_tkImage(image_link_2)\n",
    "image_label_2 = ck.CTkLabel(frame2_1, image=image_2)\n",
    "image_label_2.configure(text='')  # Set the text to an empty string\n",
    "image_label_2.pack()\n",
    "image_label_2.image = image_2\n",
    "\n",
    "image_3 = create_tkImage(image_link_3)\n",
    "image_label_3 = ck.CTkLabel(frame3_1, image=image_3)\n",
    "image_label_3.configure(text='')  # Set the text to an empty string\n",
    "image_label_3.pack()\n",
    "image_label_3.image = image_3\n",
    "\n",
    "frame1_2 = ck.CTkFrame(frame1, fg_color='#383838', width=300, height=50)\n",
    "frame1_2.pack(pady=10)\n",
    "\n",
    "frame2_2 = ck.CTkFrame(frame2, fg_color='#383838', width=300, height=50)\n",
    "frame2_2.pack(pady=10)\n",
    "\n",
    "frame3_2 = ck.CTkFrame(frame3, fg_color='#383838', width=300, height=50)\n",
    "frame3_2.pack(pady=10)\n",
    "\n",
    "title_game_label_1 = ck.CTkLabel(frame1_2, text=title_game_1, font=ck.CTkFont(size=17, weight='normal'), wraplength=350) \n",
    "title_game_label_1.pack() \n",
    "\n",
    "title_game_label_2 = ck.CTkLabel(frame2_2, text=title_game_2, font=ck.CTkFont(size=17, weight='normal'), wraplength=350) \n",
    "title_game_label_2.pack() \n",
    "\n",
    "title_game_label_3 = ck.CTkLabel(frame3_2, text=title_game_3, font=ck.CTkFont(size=17, weight='normal'), wraplength=350) \n",
    "title_game_label_3.pack() \n",
    "\n",
    "frame1_3 = ck.CTkScrollableFrame(frame1, fg_color='#2b2b2b', width=300, height=250)\n",
    "frame1_3.pack(pady=10)\n",
    "\n",
    "frame2_3 = ck.CTkScrollableFrame(frame2, fg_color='#2b2b2b', width=300, height=250)\n",
    "frame2_3.pack(pady=10)\n",
    "\n",
    "frame3_3 = ck.CTkScrollableFrame(frame3, fg_color='#2b2b2b', width=300, height=250)\n",
    "frame3_3.pack(pady=10)\n",
    "\n",
    "discrip_label_1 = ck.CTkLabel(frame1_3, text=discription_1, font=ck.CTkFont(size=12, weight='normal'), wraplength=300) \n",
    "discrip_label_1.pack() \n",
    "\n",
    "discrip_label_2 = ck.CTkLabel(frame2_3, text=discription_2, font=ck.CTkFont(size=12, weight='normal'), wraplength=300) \n",
    "discrip_label_2.pack(anchor='w') \n",
    "\n",
    "discrip_label_3 = ck.CTkLabel(frame3_3, text=discription_3, font=ck.CTkFont(size=12, weight='normal'), wraplength=300) \n",
    "discrip_label_3.pack() \n",
    "\n",
    "\n",
    "\n",
    "        \n",
    "\n",
    "root.mainloop()"
   ]
  }
 ],
 "metadata": {
  "kernelspec": {
   "display_name": "Python 3 (ipykernel)",
   "language": "python",
   "name": "python3"
  },
  "language_info": {
   "codemirror_mode": {
    "name": "ipython",
    "version": 3
   },
   "file_extension": ".py",
   "mimetype": "text/x-python",
   "name": "python",
   "nbconvert_exporter": "python",
   "pygments_lexer": "ipython3",
   "version": "3.9.13"
  }
 },
 "nbformat": 4,
 "nbformat_minor": 5
}
